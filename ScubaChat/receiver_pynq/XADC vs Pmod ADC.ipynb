{
 "cells": [
  {
   "cell_type": "markdown",
   "metadata": {
    "slideshow": {
     "slide_type": "slide"
    }
   },
   "source": [
    "\n",
    "# DAC-ADC Pmod Examples using Matplotlib and Widget\n",
    "\n",
    "----\n",
    "\n",
    "## Contents\n",
    "\n",
    "\n",
    "[Pmod DAC-ADC Feedback](#Pmod-DAC-ADC-Feedback)\n",
    "\n",
    "[Tracking the IO Error](#Tracking-the-IO-Error)\n",
    "\n",
    "[Error plot with Matplotlib](#Error-plot-with-Matplotlib)\n",
    "\n",
    "[Widget controlled plot](#Widget-controlled-plot)\n",
    "\n",
    "----\n",
    "\n",
    "## Pmod DAC-ADC Feedback\n",
    "\n",
    "This example shows how to use the PmodDA4 DAC and the PmodAD2 ADC on the board, using the board's two Pmod interfaces. The notebook then compares the DAC output to the ADC input and tracks the errors.\n",
    "\n",
    "The errors are plotted using Matplotlib and an XKCD version of the plot is produced (for fun). Finally a slider widget is introduced to control the number of samples displayed in the error plot.\n",
    "\n",
    "Note: The output of the DAC (pin A) must be connected with a wire to the input of the ADC (V1 input).\n",
    "\n",
    "### 1. Import hardware libraries and classes"
   ]
  },
  {
   "cell_type": "code",
   "execution_count": 11,
   "metadata": {},
   "outputs": [],
   "source": [
    "from pynq.overlays.base import BaseOverlay\n",
    "from pynq.lib import Pmod_ADC, Pmod_DAC"
   ]
  },
  {
   "cell_type": "markdown",
   "metadata": {},
   "source": [
    "### Import Arduino Libraries"
   ]
  },
  {
   "cell_type": "code",
   "execution_count": 12,
   "metadata": {},
   "outputs": [],
   "source": [
    "from pynq.lib.arduino import Arduino_IO\n",
    "from pynq.lib.arduino import Arduino_Analog\n",
    "from pynq.lib.arduino import ARDUINO_GROVE_A1"
   ]
  },
  {
   "cell_type": "markdown",
   "metadata": {},
   "source": [
    "### Import Plotting Libraries"
   ]
  },
  {
   "cell_type": "code",
   "execution_count": 13,
   "metadata": {},
   "outputs": [],
   "source": [
    "import matplotlib.pyplot as plt\n",
    "import numpy as np"
   ]
  },
  {
   "cell_type": "markdown",
   "metadata": {},
   "source": [
    "### 2. Program the ZYNQ PL"
   ]
  },
  {
   "cell_type": "code",
   "execution_count": 14,
   "metadata": {},
   "outputs": [],
   "source": [
    "ol = BaseOverlay(\"base.bit\")"
   ]
  },
  {
   "cell_type": "markdown",
   "metadata": {},
   "source": [
    "### 3. Instantiate the Pmod peripherals as Python objects"
   ]
  },
  {
   "cell_type": "code",
   "execution_count": null,
   "metadata": {},
   "outputs": [],
   "source": [
    "dac = Pmod_DAC(ol.PMODB)\n",
    "adc = Pmod_ADC(ol.PMODA)"
   ]
  },
  {
   "cell_type": "markdown",
   "metadata": {},
   "source": [
    "### Instantiate the Grover Shield Peripheral"
   ]
  },
  {
   "cell_type": "code",
   "execution_count": 15,
   "metadata": {},
   "outputs": [],
   "source": [
    "analog1 = Arduino_Analog(ol.ARDUINO, ARDUINO_GROVE_A1)"
   ]
  },
  {
   "cell_type": "markdown",
   "metadata": {},
   "source": [
    "### 4. Write to DAC, read from ADC, print result"
   ]
  },
  {
   "cell_type": "code",
   "execution_count": null,
   "metadata": {},
   "outputs": [],
   "source": [
    "dac.write(0.35)\n",
    "sample = adc.read()\n",
    "print(sample)"
   ]
  },
  {
   "cell_type": "markdown",
   "metadata": {},
   "source": [
    "### Reset PMOD ADC"
   ]
  },
  {
   "cell_type": "code",
   "execution_count": null,
   "metadata": {},
   "outputs": [],
   "source": [
    "adc.reset()"
   ]
  },
  {
   "cell_type": "markdown",
   "metadata": {},
   "source": [
    "# Record Rx Transducer Input\n",
    "XADC = (Xilinx Analog to Digital Converter) --> Grover Shield\n",
    "\n",
    "PMOD = Peripheral Module"
   ]
  },
  {
   "cell_type": "code",
   "execution_count": 19,
   "metadata": {},
   "outputs": [
    {
     "name": "stdout",
     "output_type": "stream",
     "text": [
      "run time 8.094695329666138 seconds\n"
     ]
    }
   ],
   "source": [
    "import time\n",
    "\n",
    "xAdcVoltages = []\n",
    "xAdcAnalogValues = []\n",
    "pmodAdcVoltages = []\n",
    "pmodAdcAnalogValues = []\n",
    "\n",
    "seconds = 1\n",
    "\n",
    "stopTime = 0\n",
    "runTime = 0\n",
    "startTime = time.time() \n",
    "samples = 0\n",
    "maxSamples = 20000\n",
    "\n",
    "while samples < maxSamples:\n",
    "    #pmodAdcVoltages.append(adc.read())\n",
    "    #pmodAdcAnalogValues.append(adc.read_raw())\n",
    "    xAdcAnalogValues.append(analog1.read_raw()[0])    \n",
    "    xAdcVoltages.append(analog1.read('voltage')[0])    \n",
    "    samples += 1\n",
    "    \n",
    "stopTime = time.time()\n",
    "runTime = stopTime - startTime\n",
    "print('run time {} seconds'.format(runTime))"
   ]
  },
  {
   "cell_type": "markdown",
   "metadata": {},
   "source": [
    "## Receiving Input directly from the DAC"
   ]
  },
  {
   "cell_type": "code",
   "execution_count": 20,
   "metadata": {},
   "outputs": [
    {
     "data": {
      "image/png": "[encoded data removed]",
      "text/plain": [
       "<Figure size 432x288 with 1 Axes>"
      ]
     },
     "metadata": {
      "needs_background": "light"
     },
     "output_type": "display_data"
    }
   ],
   "source": [
    "plt.plot(xAdcVoltages)\n",
    "plt.xlabel('Samples')\n",
    "plt.ylabel('voltage')\n",
    "plt.title('Directly Reading 1V from the PMOD ADC (voltage)')\n",
    "plt.show()"
   ]
  },
  {
   "cell_type": "code",
   "execution_count": null,
   "metadata": {},
   "outputs": [],
   "source": [
    "plt.plot(pmodAdcVoltages)\n",
    "plt.xlabel('Samples')\n",
    "plt.ylabel('voltage')\n",
    "plt.title('Directly Reading 2V from the PMOD ADC (voltage)')\n",
    "plt.show()"
   ]
  },
  {
   "cell_type": "code",
   "execution_count": null,
   "metadata": {},
   "outputs": [],
   "source": [
    "plt.plot(pmodAdcVoltages)\n",
    "plt.xlabel('Samples')\n",
    "plt.ylabel('voltage')\n",
    "plt.title('Directly Reading 1V from the PMOD ADC (voltage)')\n",
    "plt.show()"
   ]
  },
  {
   "cell_type": "code",
   "execution_count": null,
   "metadata": {},
   "outputs": [],
   "source": [
    "plt.plot(pmodAdcVoltages)\n",
    "plt.xlabel('Samples')\n",
    "plt.ylabel('voltage')\n",
    "plt.title('Directly Reading 0.5V from the PMOD ADC (voltage)')\n",
    "plt.show()"
   ]
  },
  {
   "cell_type": "markdown",
   "metadata": {},
   "source": [
    "### Warning!! The PMOD ADC can only take up to 2V\n",
    "We sent 2.5V from the PMOD DAC, but only received 2V on the PMOD ADC"
   ]
  },
  {
   "cell_type": "code",
   "execution_count": null,
   "metadata": {},
   "outputs": [],
   "source": [
    "plt.plot(pmodAdcVoltages)\n",
    "plt.xlabel('Samples')\n",
    "plt.ylabel('voltage')\n",
    "plt.title('Directly Reading 2.5V from the PMOD ADC (voltage)')\n",
    "plt.show()"
   ]
  },
  {
   "cell_type": "markdown",
   "metadata": {},
   "source": [
    "### Recieving Sinewave values"
   ]
  },
  {
   "cell_type": "code",
   "execution_count": null,
   "metadata": {},
   "outputs": [],
   "source": [
    "plt.plot(pmodAdcVoltages)\n",
    "plt.xlabel('Samples')\n",
    "plt.ylabel('voltage')\n",
    "plt.title('Directly Reading Sinewave Values from the PMOD DAC to PMOD ADC (voltage)')\n",
    "plt.show()"
   ]
  },
  {
   "cell_type": "code",
   "execution_count": null,
   "metadata": {},
   "outputs": [],
   "source": [
    "plt.plot(pmodAdcVoltages)\n",
    "plt.xlabel('Samples')\n",
    "plt.ylabel('voltage')\n",
    "plt.title('Directly Reading Sinewave Values from the PMOD DAC to PMOD ADC (voltage) Delay 0.05 second')\n",
    "plt.show()"
   ]
  },
  {
   "cell_type": "code",
   "execution_count": null,
   "metadata": {},
   "outputs": [],
   "source": [
    "plt.plot(pmodAdcVoltages)\n",
    "plt.xlabel('Samples')\n",
    "plt.ylabel('voltage')\n",
    "plt.title('Directly Reading Sinewave Values from the PMOD DAC to PMOD ADC (voltage) Delay 0.005 second')\n",
    "plt.show()"
   ]
  },
  {
   "cell_type": "code",
   "execution_count": null,
   "metadata": {},
   "outputs": [],
   "source": [
    "plt.plot(pmodAdcVoltages)\n",
    "plt.xlabel('Samples')\n",
    "plt.ylabel('voltage')\n",
    "plt.title('Directly Reading Sinewave Values from the PMOD DAC to PMOD ADC (voltage) Delay 0.000008 second')\n",
    "plt.show()"
   ]
  },
  {
   "cell_type": "code",
   "execution_count": null,
   "metadata": {},
   "outputs": [],
   "source": [
    "plt.plot(pmodAdcVoltages[730:800])\n",
    "plt.xlabel('Samples')\n",
    "plt.ylabel('voltage')\n",
    "plt.title('Directly Reading Sinewave Values from the PMOD DAC to PMOD ADC (voltage) Delay 0.0008 second')\n",
    "plt.show()"
   ]
  },
  {
   "cell_type": "code",
   "execution_count": null,
   "metadata": {},
   "outputs": [],
   "source": [
    "plt.plot(pmodAdcVoltages[575:650])\n",
    "plt.xlabel('Samples')\n",
    "plt.ylabel('voltage')\n",
    "plt.title('Directly Reading Sinewave Values from the PMOD DAC to PMOD ADC (voltage) Delay 0.000008 second')\n",
    "plt.show()"
   ]
  },
  {
   "cell_type": "code",
   "execution_count": null,
   "metadata": {},
   "outputs": [],
   "source": [
    "plt.plot(pmodAdcVoltages[730:770])\n",
    "plt.xlabel('Samples')\n",
    "plt.ylabel('voltage')\n",
    "plt.title('Directly Reading Sinewave Values from the PMOD DAC to PMOD ADC (voltage) Delay 0.000008 second')\n",
    "plt.show()"
   ]
  },
  {
   "cell_type": "code",
   "execution_count": null,
   "metadata": {},
   "outputs": [],
   "source": [
    "plt.plot(xAdcVoltages)\n",
    "plt.xlabel('Samples')\n",
    "plt.ylabel('voltage')\n",
    "plt.title('Directly Reading Sinewave Values from the PMOD DAC to XADC (voltage) Delay 1 second')\n",
    "plt.show()"
   ]
  },
  {
   "cell_type": "code",
   "execution_count": null,
   "metadata": {},
   "outputs": [],
   "source": [
    "plt.plot(xAdcVoltages)\n",
    "plt.xlabel('Samples')\n",
    "plt.ylabel('voltage')\n",
    "plt.title('Directly Reading Sinewave Values from the PMOD DAC to XADC (voltage) Delay of 0.5')\n",
    "plt.show()"
   ]
  },
  {
   "cell_type": "code",
   "execution_count": null,
   "metadata": {},
   "outputs": [],
   "source": [
    "plt.plot(xAdcVoltages)\n",
    "plt.xlabel('Samples')\n",
    "plt.ylabel('voltage')\n",
    "plt.title('Directly Reading Sinewave Values from the PMOD DAC to XADC (voltage) Delay of 0.1')\n",
    "plt.show()"
   ]
  },
  {
   "cell_type": "code",
   "execution_count": null,
   "metadata": {},
   "outputs": [],
   "source": [
    "plt.plot(xAdcVoltages)\n",
    "plt.xlabel('Samples')\n",
    "plt.ylabel('voltage')\n",
    "plt.title('Directly Reading Sinewave Values from the PMOD DAC to XADC (voltage) Delay of 0.05')\n",
    "plt.show()"
   ]
  },
  {
   "cell_type": "code",
   "execution_count": null,
   "metadata": {},
   "outputs": [],
   "source": [
    "plt.plot(xAdcVoltages[1600:2000])\n",
    "plt.xlabel('Samples')\n",
    "plt.ylabel('voltage')\n",
    "plt.title('Directly Reading Sinewave Values from the PMOD DAC to XADC (voltage) Delay of 0.0008')\n",
    "plt.show()"
   ]
  },
  {
   "cell_type": "code",
   "execution_count": null,
   "metadata": {},
   "outputs": [],
   "source": [
    "plt.plot(xAdcVoltages[1910:1960])\n",
    "plt.xlabel('Samples')\n",
    "plt.ylabel('voltage')\n",
    "plt.title('Directly Reading Sinewave Values from the PMOD DAC to XADC (voltage) Delay of 0.00008')\n",
    "plt.show()"
   ]
  },
  {
   "cell_type": "markdown",
   "metadata": {},
   "source": [
    "## Rx Transducer in Water w/ Tx Transducer sending Sinewave values"
   ]
  },
  {
   "cell_type": "code",
   "execution_count": null,
   "metadata": {},
   "outputs": [],
   "source": [
    "plt.plot(pmodAdcVoltages)\n",
    "plt.xlabel('Samples')\n",
    "plt.ylabel('voltage')\n",
    "plt.title('PMOD ADC (voltage)')\n",
    "plt.show()"
   ]
  },
  {
   "cell_type": "code",
   "execution_count": null,
   "metadata": {},
   "outputs": [],
   "source": [
    "plt.plot(xAdcVoltages)\n",
    "plt.xlabel('Samples')\n",
    "plt.ylabel('voltage')\n",
    "plt.title('XADC Receiveing 2V (voltage)')\n",
    "plt.show()"
   ]
  },
  {
   "cell_type": "markdown",
   "metadata": {},
   "source": [
    "## Rx Transducer in Water w/ Tx Transducer"
   ]
  },
  {
   "cell_type": "code",
   "execution_count": null,
   "metadata": {},
   "outputs": [],
   "source": [
    "plt.plot(xAdcVoltages)\n",
    "plt.xlabel('Samples')\n",
    "plt.ylabel('voltage')\n",
    "plt.title('Rx Transducer w/ Arduino Tx Transducer XADC (voltage)')\n",
    "plt.show()"
   ]
  },
  {
   "cell_type": "code",
   "execution_count": null,
   "metadata": {},
   "outputs": [],
   "source": [
    "plt.plot(xAdcVoltages)\n",
    "plt.xlabel('Samples')\n",
    "plt.ylabel('voltage')\n",
    "plt.title('Rx Transducer (w/o resistor) w/ Tx Transducer XADC (voltage)')\n",
    "plt.show()"
   ]
  },
  {
   "cell_type": "code",
   "execution_count": null,
   "metadata": {},
   "outputs": [],
   "source": [
    "plt.plot(xAdcVoltages)\n",
    "plt.xlabel('Samples')\n",
    "plt.ylabel('voltage')\n",
    "plt.title('XADC Rx Transducer w/ DAC Tx Transducer (voltage)')\n",
    "plt.show()"
   ]
  },
  {
   "cell_type": "code",
   "execution_count": null,
   "metadata": {},
   "outputs": [],
   "source": [
    "plt.plot(xAdcAnalogValues)\n",
    "plt.xlabel('Samples')\n",
    "plt.ylabel('raw analog values')\n",
    "plt.title('XADC Rx Transducer w/ DAC Tx Transducer (analog)')\n",
    "plt.show()"
   ]
  },
  {
   "cell_type": "markdown",
   "metadata": {},
   "source": [
    "## Rx Transducer in Water Alone (Jumper set to REF)\n",
    "REF = reference voltage"
   ]
  },
  {
   "cell_type": "code",
   "execution_count": null,
   "metadata": {},
   "outputs": [],
   "source": [
    "plt.plot(pmodAdcVoltages)\n",
    "plt.xlabel('Samples')\n",
    "plt.ylabel('voltage')\n",
    "plt.title('Tapping Transducer w/ PMOD ADC (voltage)')\n",
    "plt.show()"
   ]
  },
  {
   "cell_type": "markdown",
   "metadata": {},
   "source": [
    "## Rx Transducer in Water Alone (Jumper set to V4)"
   ]
  },
  {
   "cell_type": "code",
   "execution_count": null,
   "metadata": {},
   "outputs": [],
   "source": [
    "plt.plot(pmodAdcVoltages)\n",
    "plt.xlabel('Samples')\n",
    "plt.ylabel('voltage')\n",
    "plt.title('Tapping Transducer w/ PMOD ADC (voltage)')\n",
    "plt.show()"
   ]
  },
  {
   "cell_type": "markdown",
   "metadata": {},
   "source": [
    "## Rx Transducer in Water Alone \n",
    "Jumper set to V4 and Rx Transducer pins connected to VCC and V1"
   ]
  },
  {
   "cell_type": "code",
   "execution_count": null,
   "metadata": {},
   "outputs": [],
   "source": [
    "plt.plot(pmodAdcVoltages)\n",
    "plt.xlabel('Samples')\n",
    "plt.ylabel('voltage')\n",
    "plt.title('Tapping Transducer w/ PMOD ADC (voltage)')\n",
    "plt.show()"
   ]
  },
  {
   "cell_type": "markdown",
   "metadata": {},
   "source": [
    "## Tapping Rx Transducer\n",
    "Jumper set to V4"
   ]
  },
  {
   "cell_type": "code",
   "execution_count": null,
   "metadata": {},
   "outputs": [],
   "source": [
    "# plt.plot(xAdcAnalogValues)\n",
    "# plt.xlabel('Samples')\n",
    "# plt.ylabel('raw analog values')\n",
    "# plt.title('Tapping Transducer w/ XDAC (analog)')\n",
    "# plt.show()\n",
    "\n",
    "# plt.plot(xAdcVoltages)\n",
    "# plt.xlabel('Samples')\n",
    "# plt.ylabel('voltage')\n",
    "# plt.title('Tapping Transducer w/ XDAC (voltage)')\n",
    "# plt.show()\n",
    "\n",
    "# plt.plot(pmodAdcAnalogValues)\n",
    "# plt.xlabel('Samples')\n",
    "# plt.ylabel('raw analog values')\n",
    "# plt.title('Tapping Transducer w/ PMOD ADC (analog)')\n",
    "# plt.show()\n",
    "\n",
    "plt.plot(pmodAdcVoltages)\n",
    "plt.xlabel('Samples')\n",
    "plt.ylabel('voltage')\n",
    "plt.title('Tapping Transducer w/ PMOD ADC (voltage)')\n",
    "plt.show()"
   ]
  },
  {
   "cell_type": "markdown",
   "metadata": {},
   "source": [
    "## Tapping Rx Transducer\n",
    "Jumper set to REF"
   ]
  },
  {
   "cell_type": "code",
   "execution_count": null,
   "metadata": {},
   "outputs": [],
   "source": [
    "plt.plot(pmodAdcVoltages)\n",
    "plt.xlabel('Samples')\n",
    "plt.ylabel('voltage')\n",
    "plt.title('Tapping Transducer w/ PMOD ADC (voltage)')\n",
    "plt.show()"
   ]
  },
  {
   "cell_type": "code",
   "execution_count": null,
   "metadata": {},
   "outputs": [],
   "source": [
    "plt.plot(xAdcVoltages)\n",
    "plt.xlabel('Samples')\n",
    "plt.ylabel('voltage')\n",
    "plt.title('Tapping Transducer w/ XADC (voltage)')\n",
    "plt.show()"
   ]
  },
  {
   "cell_type": "markdown",
   "metadata": {},
   "source": [
    "## Sending 2V from DAC to XADC"
   ]
  },
  {
   "cell_type": "code",
   "execution_count": null,
   "metadata": {},
   "outputs": [],
   "source": [
    "plt.plot(xAdcVoltages)\n",
    "plt.xlabel('Samples')\n",
    "plt.ylabel('voltage')\n",
    "plt.title('Directly Sending 2V from DAC to XADC (voltage)')\n",
    "plt.show()"
   ]
  },
  {
   "cell_type": "code",
   "execution_count": null,
   "metadata": {},
   "outputs": [],
   "source": [
    "plt.plot(xAdcVoltages)\n",
    "plt.xlabel('Samples')\n",
    "plt.ylabel('voltage')\n",
    "plt.title('Directly Sending 2.5V from DAC to XADC (voltage)')\n",
    "plt.show()"
   ]
  },
  {
   "cell_type": "markdown",
   "metadata": {},
   "source": [
    "## Tapping Rx Transducer\n",
    "Jumper set to REF after PMOD ADC Reset"
   ]
  },
  {
   "cell_type": "code",
   "execution_count": null,
   "metadata": {},
   "outputs": [],
   "source": [
    "plt.plot(pmodAdcVoltages)\n",
    "plt.xlabel('Samples')\n",
    "plt.ylabel('voltage')\n",
    "plt.title('Tapping Transducer w/ PMOD ADC (voltage)')\n",
    "plt.show()"
   ]
  },
  {
   "cell_type": "markdown",
   "metadata": {},
   "source": [
    "## Tapping Rx Transducer\n",
    "Jumper set to V4 after PMOD ADC Reset"
   ]
  },
  {
   "cell_type": "code",
   "execution_count": null,
   "metadata": {},
   "outputs": [],
   "source": [
    "plt.plot(pmodAdcVoltages)\n",
    "plt.xlabel('Samples')\n",
    "plt.ylabel('voltage')\n",
    "plt.title('Tapping Transducer w/ PMOD ADC (voltage)')\n",
    "plt.show()"
   ]
  },
  {
   "cell_type": "markdown",
   "metadata": {},
   "source": [
    "## Write PMOD ADC Voltages to a file"
   ]
  },
  {
   "cell_type": "code",
   "execution_count": null,
   "metadata": {},
   "outputs": [],
   "source": [
    "file = open(\"PmodAdcVoltages.txt\", \"w\")\n",
    "\n",
    "pmodAdcVoltagesStr = ''.join(str(voltage) for voltage in pmodAdcVoltages)\n",
    "\n",
    "file.write(pmodAdcVoltagesStr)\n",
    "\n",
    "file.close()"
   ]
  },
  {
   "cell_type": "markdown",
   "metadata": {},
   "source": [
    "----\n",
    "\n",
    "[Contents](#Contents)\n",
    "\n",
    "----"
   ]
  },
  {
   "cell_type": "markdown",
   "metadata": {},
   "source": [
    "## Tracking the IO Error\n",
    "Report DAC-ADC Pmod Loopback Measurement Error."
   ]
  },
  {
   "cell_type": "code",
   "execution_count": null,
   "metadata": {
    "scrolled": true
   },
   "outputs": [],
   "source": [
    "from math import ceil\n",
    "from time import sleep\n",
    "import numpy as np\n",
    "import matplotlib.pyplot as plt\n",
    "from pynq.lib import Pmod_ADC, Pmod_DAC\n",
    "from pynq.overlays.base import BaseOverlay\n",
    "\n",
    "ol = BaseOverlay(\"base.bit\")\n",
    "\n",
    "dac = Pmod_DAC(ol.PMODB)\n",
    "adc = Pmod_ADC(ol.PMODA)\n",
    "\n",
    "delay = 0.0\n",
    "values = np.linspace(0, 2, 20)\n",
    "samples = []\n",
    "for value in values:\n",
    "    dac.write(value)\n",
    "    sleep(delay)\n",
    "    sample = adc.read()\n",
    "    samples.append(sample[0])\n",
    "    print('Value written: {:4.2f}\\tSample read: {:4.2f}\\tError: {:+4.4f}'.\n",
    "          format(value, sample[0], sample[0]-value))"
   ]
  },
  {
   "cell_type": "markdown",
   "metadata": {},
   "source": [
    "----\n",
    "\n",
    "[Contents](#Contents)\n",
    "\n",
    "----"
   ]
  },
  {
   "cell_type": "markdown",
   "metadata": {},
   "source": [
    "## Error plot with Matplotlib\n",
    "This example shows plots in notebook (rather than in separate window)."
   ]
  },
  {
   "cell_type": "code",
   "execution_count": null,
   "metadata": {
    "scrolled": true
   },
   "outputs": [],
   "source": [
    "%matplotlib inline\n",
    "    \n",
    "X = np.arange(len(values))\n",
    "plt.bar(X + 0.0, values, facecolor='blue', \n",
    "        edgecolor='white', width=0.5, label=\"Written_to_DAC\")\n",
    "plt.bar(X + 0.25, samples, facecolor='red', \n",
    "        edgecolor='white', width=0.5, label=\"Read_from_ADC\")\n",
    "\n",
    "plt.title('DAC-ADC Linearity')\n",
    "plt.xlabel('Sample_number')\n",
    "plt.ylabel('Volts')\n",
    "plt.legend(loc='upper left', frameon=False)\n",
    "\n",
    "plt.show()"
   ]
  },
  {
   "cell_type": "markdown",
   "metadata": {},
   "source": [
    "----\n",
    "\n",
    "[Contents](#Contents)\n",
    "\n",
    "----"
   ]
  },
  {
   "cell_type": "markdown",
   "metadata": {},
   "source": [
    "## Widget controlled plot\n",
    "\n",
    "In this example, we extend the IO plot with a slider widget to control the number of samples appearing in the output plot.\n",
    "\n",
    "We use the `ipwidgets` library and the simple `interact()` method to launch a slider bar.\n",
    "\n",
    "> The interact function (ipywidgets.interact) automatically creates user interface (UI) controls for exploring code and data interactively. It is the easiest way to get started using IPython’s widgets.\n",
    "\n",
    "For more details see [Using ipwidgets interact()](https://ipywidgets.readthedocs.io/en/latest/examples/Using%20Interact.html#)"
   ]
  },
  {
   "cell_type": "code",
   "execution_count": null,
   "metadata": {
    "scrolled": false
   },
   "outputs": [],
   "source": [
    "from math import ceil\n",
    "from time import sleep\n",
    "import numpy as np\n",
    "import matplotlib.pyplot as plt\n",
    "%matplotlib inline\n",
    "\n",
    "from ipywidgets import interact\n",
    "import ipywidgets as widgets\n",
    "\n",
    "ol = BaseOverlay(\"base.bit\")\n",
    "\n",
    "dac = Pmod_DAC(ol.PMODB)\n",
    "adc = Pmod_ADC(ol.PMODA)\n",
    "\n",
    "def capture_samples(nmbr_of_samples):\n",
    "    delay = 0.0\n",
    "    values = np.linspace(0, 2, nmbr_of_samples)\n",
    "    samples = []\n",
    "    for value in values:\n",
    "        dac.write(value)\n",
    "        sleep(delay)\n",
    "        sample = adc.read()\n",
    "        samples.append(sample[0])\n",
    "\n",
    "    X = np.arange(nmbr_of_samples)\n",
    "    plt.bar(X + 0.0, values[:nmbr_of_samples+1], \n",
    "            facecolor='blue', edgecolor='white', \n",
    "            width=0.5, label=\"Written_to_DAC\")\n",
    "    plt.bar(X + 0.25, samples[:nmbr_of_samples+1], \n",
    "            facecolor='red', edgecolor='white', \n",
    "            width=0.5, label=\"Read_from_ADC\")\n",
    "\n",
    "    plt.title('DAC-ADC Linearity')\n",
    "    plt.xlabel('Sample_number')\n",
    "    plt.ylabel('Volts')\n",
    "    plt.legend(loc='upper left', frameon=False)\n",
    "    plt.show()\n",
    "\n",
    "_ = interact(capture_samples, \n",
    "             nmbr_of_samples=widgets.IntSlider(\n",
    "                 min=5, max=30, step=5,\n",
    "                 value=10, continuous_update=False))"
   ]
  },
  {
   "cell_type": "markdown",
   "metadata": {},
   "source": [
    "----\n",
    "\n",
    "[Contents](#Contents)\n",
    "\n",
    "----"
   ]
  }
 ],
 "metadata": {
  "kernelspec": {
   "display_name": "Python 3 (ipykernel)",
   "language": "python",
   "name": "python3"
  },
  "language_info": {
   "codemirror_mode": {
    "name": "ipython",
    "version": 3
   },
   "file_extension": ".py",
   "mimetype": "text/x-python",
   "name": "python",
   "nbconvert_exporter": "python",
   "pygments_lexer": "ipython3",
   "version": "3.10.4"
  },
  "widgets": {
   "state": {
    "c1b64babc85043a38c46fd265c8ac132": {
     "views": [
      {
       "cell_index": 25
      }
     ]
    }
   },
   "version": "1.2.0"
  }
 },
 "nbformat": 4,
 "nbformat_minor": 1
}
