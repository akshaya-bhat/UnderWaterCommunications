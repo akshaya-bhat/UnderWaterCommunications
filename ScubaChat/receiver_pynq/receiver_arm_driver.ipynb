{
 "cells": [
  {
   "cell_type": "markdown",
   "id": "731c5f57",
   "metadata": {},
   "source": [
    "## Interfacing with XADC\n",
    "\n",
    "TODO: Update code to DMA XADC\n",
    "\n",
    "The AD2 uses I2C protocol so we have to use the I2C communication. The PS is what handles the communication over I2C devices. Our software on the ARM has to read from the device and then what I think makes sense is we have a DMA that can transfer the large amount of data between the memory and peripheral (AD2) in the PL. Then afterward the DMA will bring our data back to PS and it will go through the downsampled code."
   ]
  },
  {
   "cell_type": "code",
   "execution_count": null,
   "id": "a5ddca50",
   "metadata": {},
   "outputs": [],
   "source": [
    "import pynq\n",
    "from pynq import GPIO\n",
    "\n",
    "__author__ = \"Adam Taylor\"\n",
    "__copyright__ = \"Copyright 2020, Adiuvo\"\n",
    "__email__ = \"Adam@adiuvoengineering.com\"\n",
    "\n",
    "\n",
    "class xadc_scopeOverlay(pynq.Overlay):\n",
    "    \"\"\".\n",
    "    \"\"\"\n",
    "    def __init__(self, bitfile, **kwargs):\n",
    "        super().__init__(bitfile, **kwargs)\n",
    "        if self.is_loaded():\n",
    "            pass"
   ]
  },
  {
   "cell_type": "code",
   "execution_count": null,
   "id": "1ab6f511",
   "metadata": {},
   "outputs": [],
   "source": [
    "ol = Overlay('receiver_arm_bitstream/design_1.bit')\n",
    "ol.download()"
   ]
  },
  {
   "cell_type": "code",
   "execution_count": null,
   "id": "3a5da829",
   "metadata": {},
   "outputs": [],
   "source": [
    "ol?"
   ]
  },
  {
   "cell_type": "code",
   "execution_count": null,
   "id": "04774599",
   "metadata": {},
   "outputs": [],
   "source": [
    "import numpy as np\n",
    "from pynq import allocate\n",
    "from pynq import Overlay\n",
    "import matplotlib.pyplot as mp\n",
    "\n",
    "input_buffer = allocate(shape=(128,), dtype=np.uint16)\n",
    "\n",
    "dma = overlay.axi_dma_0\n",
    "recvstatus = dma.recvchannel.running\n",
    "\n",
    "dma.buffer_max_size\n",
    "samples = 0\n",
    "maxSamples = 40*128\n",
    "xAdcVoltages = np.copy(input_buffer)\n",
    "\n",
    "\n",
    "while samples < maxSamples:\n",
    "    dma.recvchannel.transfer(input_buffer)\n",
    "    await dma.recvchannel.wait_async()\n",
    "    print(input_buffer)   \n",
    "#     np.append(xAdcVoltages,input_buffer)\n",
    "    samples += 128\n",
    "\n",
    "    mp.plot(input_buffer)\n",
    "    mp.show()"
   ]
  },
  {
   "cell_type": "markdown",
   "id": "383aa081",
   "metadata": {},
   "source": [
    "iic_data = [0x28]\n",
    "rx_data = bytes(1)"
   ]
  },
  {
   "cell_type": "markdown",
   "id": "5cc8b088",
   "metadata": {},
   "source": [
    "addr = 0x28\n",
    "iic.send(addr, iic_data, len(iic_data),1)\n",
    "iic.receive(addr,rx_data,2,0)"
   ]
  },
  {
   "cell_type": "code",
   "execution_count": null,
   "id": "9df62657",
   "metadata": {},
   "outputs": [],
   "source": [
    "# Initialize the plot\n",
    "plt.figure(figsize=(10, 6))\n",
    "plt.xlabel('Time')\n",
    "plt.ylabel('Received Data')\n",
    "plt.title('Continuous Data Plot')\n",
    "\n",
    "addr = 0x28 # or 0x4C for write, 0x4D for read\n",
    "iic_data = [0x28]\n",
    "\n",
    "while True:\n",
    "    # Send data\n",
    "    iic.send(addr, iic_data, len(iic_data), 1)\n",
    "    \n",
    "    # Receive data\n",
    "    rx_data = bytearray(4)  # Adjusted for 32-bit data\n",
    "    iic.receive(addr, rx_data, 4, 0)  # Receive 4 bytes\n",
    "    \n",
    "    # Get the current time\n",
    "    current_time = time.time()\n",
    "    \n",
    "    # Convert the received data to an integer\n",
    "    received_value = int.from_bytes(rx_data, byteorder='big')\n",
    "    \n",
    "    # Plot the latest received data point\n",
    "    plt.scatter(current_time, received_value, color='b')\n",
    "    plt.gcf().autofmt_xdate()\n",
    "    plt.draw()\n",
    "    plt.pause(0.01)\n",
    "    \n",
    "    # Clear the previous output\n",
    "    clear_output(wait=True)\n",
    "    display(plt.gcf())\n",
    "    \n",
    "    # Add a delay if needed\n",
    "    time.sleep(0.5)  # Adjust the delay time as per your requirement"
   ]
  },
  {
   "cell_type": "markdown",
   "id": "f17a3488",
   "metadata": {},
   "source": [
    "## Interfacing with DMA to send information to Receiver IP Block"
   ]
  },
  {
   "cell_type": "code",
   "execution_count": 1,
   "id": "1dddd6a8",
   "metadata": {},
   "outputs": [
    {
     "data": {
      "application/javascript": [
       "\n",
       "try {\n",
       "require(['notebook/js/codecell'], function(codecell) {\n",
       "  codecell.CodeCell.options_default.highlight_modes[\n",
       "      'magic_text/x-csrc'] = {'reg':[/^%%microblaze/]};\n",
       "  Jupyter.notebook.events.one('kernel_ready.Kernel', function(){\n",
       "      Jupyter.notebook.get_cells().map(function(cell){\n",
       "          if (cell.cell_type == 'code'){ cell.auto_highlight(); } }) ;\n",
       "  });\n",
       "});\n",
       "} catch (e) {};\n"
      ]
     },
     "metadata": {},
     "output_type": "display_data"
    },
    {
     "data": {
      "application/javascript": [
       "\n",
       "try {\n",
       "require(['notebook/js/codecell'], function(codecell) {\n",
       "  codecell.CodeCell.options_default.highlight_modes[\n",
       "      'magic_text/x-csrc'] = {'reg':[/^%%pybind11/]};\n",
       "  Jupyter.notebook.events.one('kernel_ready.Kernel', function(){\n",
       "      Jupyter.notebook.get_cells().map(function(cell){\n",
       "          if (cell.cell_type == 'code'){ cell.auto_highlight(); } }) ;\n",
       "  });\n",
       "});\n",
       "} catch (e) {};\n"
      ]
     },
     "metadata": {},
     "output_type": "display_data"
    }
   ],
   "source": [
    "from pynq import Overlay\n",
    "import numpy as np\n",
    "from pynq import allocate\n",
    "from pynq.lib import dma\n",
    "from scipy.linalg import dft\n",
    "import matplotlib.pyplot as plt"
   ]
  },
  {
   "cell_type": "code",
   "execution_count": 2,
   "id": "0b3a1798",
   "metadata": {},
   "outputs": [],
   "source": [
    "ol=Overlay('receiver_arm_bitstream/design_1.bit')"
   ]
  },
  {
   "cell_type": "code",
   "execution_count": 3,
   "id": "cfeac6d6",
   "metadata": {},
   "outputs": [],
   "source": [
    "ol?"
   ]
  },
  {
   "cell_type": "code",
   "execution_count": 4,
   "id": "1e2d6dad",
   "metadata": {},
   "outputs": [],
   "source": [
    "dma1=ol.axi_dma_0\n",
    "dma2=ol.axi_dma_1"
   ]
  },
  {
   "cell_type": "code",
   "execution_count": 5,
   "id": "10e7fc40",
   "metadata": {},
   "outputs": [
    {
     "name": "stdout",
     "output_type": "stream",
     "text": [
      "(3776,)\n",
      "[ 2.84524e-01 -4.19076e-01  1.88752e-01  2.18882e-01 -4.44955e-01\n",
      "  2.90846e-01  1.02627e-01 -3.91840e-01  3.40343e-01 -1.33892e-02\n",
      " -3.00801e-01  3.47074e-01 -1.06692e-01 -2.07637e-01  3.37009e-01\n",
      " -1.82860e-01 -1.22364e-01  3.24795e-01 -2.52617e-01 -3.44380e-02\n",
      "  2.95180e-01 -3.07435e-01  5.80836e-02  2.42343e-01 -3.37988e-01\n",
      "  1.47189e-01  1.67641e-01 -3.39478e-01  2.23885e-01  8.06373e-02\n",
      " -3.17527e-01  2.87004e-01 -1.18839e-02 -2.81243e-01  3.41319e-01\n",
      " -1.10301e-01 -2.25103e-01  3.81647e-01 -2.15270e-01 -1.48328e-01\n",
      "  4.05211e-01 -3.24503e-01 -4.54401e-02  3.99394e-01 -4.25972e-01\n",
      "  8.23165e-02  3.50834e-01 -4.99087e-01  2.21860e-01  2.53781e-01\n",
      " -5.15613e-01  3.40016e-01  1.21984e-01 -4.76502e-01  4.25409e-01\n",
      " -1.72500e-02 -3.99822e-01  4.75517e-01 -1.50242e-01 -2.99230e-01\n",
      "  4.94365e-01 -2.71442e-01 -1.81936e-01  4.83394e-01 -3.75358e-01\n",
      " -5.11299e-02  4.38647e-01 -4.57206e-01  8.64331e-02  3.60713e-01\n",
      " -5.02821e-01  2.18538e-01  2.47898e-01 -4.98634e-01  3.25568e-01\n",
      "  1.15685e-01 -4.47880e-01  3.96845e-01 -1.60063e-02 -3.70320e-01\n",
      "  4.43038e-01 -1.39484e-01 -2.79392e-01  4.68010e-01 -2.62728e-01\n",
      " -1.81454e-01  4.99928e-01 -4.05499e-01 -5.76375e-02  5.14158e-01\n",
      " -5.55094e-01  1.08052e-01  4.60579e-01 -6.49097e-01  2.81635e-01\n",
      "  3.14051e-01 -6.07574e-01  3.72343e-01  1.20639e-01 -4.07859e-01\n",
      "  2.96103e-01 -8.81455e-03 -1.21667e-01  3.86540e-02  2.26973e-02\n",
      "  1.15029e-01 -3.01367e-01  2.21879e-01  1.81774e-01 -5.54456e-01\n",
      "  4.72514e-01  6.76578e-02 -5.87887e-01  5.98423e-01 -1.06113e-01\n",
      " -3.97841e-01  4.72075e-01 -1.61826e-01 -1.27315e-01  1.31817e-01\n",
      " -6.44920e-18  3.13745e-02 -2.41657e-01  3.15068e-01 -1.63574e-02\n",
      " -4.48312e-01  5.95264e-01 -2.00461e-01]\n",
      "29\n"
     ]
    }
   ],
   "source": [
    "NUM_SAMPLES=236\n",
    "in_I = allocate(shape=(128,), dtype=np.float32) \n",
    "out_I = allocate(shape=(128,), dtype=np.float32) \n",
    "out_Q = allocate(shape=(128,), dtype=np.float32)\n",
    "\n",
    "with open(\"tx_out.dat\", mode='rb') as file:\n",
    "    file_content = file.read()\n",
    "\n",
    "float_strs = file_content.split(b\" \")\n",
    "volt_floats = [float(x) for x in float_strs if x != b'']\n",
    "volt_array = np.array(volt_floats)\n",
    "print(volt_array.shape)\n",
    "print(volt_array[0:128])\n",
    "\n",
    "num_chunks = volt_array.shape[0] // 128\n",
    "print(num_chunks)\n",
    "# for i in range(num_chunks):\n",
    "#     start_index = i * 128\n",
    "#     end_index = start_index + 128\n",
    "#     in_I[:] = volt_array[start_index:end_index]\n",
    "    \n",
    "#     print(in_I.shape)\n",
    "    \n",
    "\n",
    "\n",
    "    "
   ]
  },
  {
   "cell_type": "code",
   "execution_count": 6,
   "id": "70ceee9c",
   "metadata": {},
   "outputs": [
    {
     "name": "stdout",
     "output_type": "stream",
     "text": [
      "(128,)\n",
      "waiting\n"
     ]
    },
    {
     "name": "stderr",
     "output_type": "stream",
     "text": [
      "\n",
      "KeyboardInterrupt\n",
      "\n"
     ]
    }
   ],
   "source": [
    "\n",
    "receiver_ip = ol.receiver_0\n",
    "receiver_ip.write(0x00,1)\n",
    "# dma3.recvchannel.start()  \n",
    "# status_rx1 = dma1.recvchannel.running\n",
    "# status_rx2 = dma2.recvchannel.running\n",
    "# status_tx1 = dma1.sendchannel.running\n",
    "dma1.sendchannel.start()\n",
    "# dma2.sendchannel.start()\n",
    "dma2.recvchannel.start()\n",
    "dma1.recvchannel.start()\n",
    "\n",
    "\n",
    "# dma3.recvchannel.transfer(out_Q) \n",
    "for i in range(num_chunks):\n",
    "    start_index = i * 128\n",
    "    end_index = start_index + 128\n",
    "    in_I[:] = volt_array[start_index:end_index]\n",
    "    \n",
    "    print(in_I.shape)\n",
    "    dma1.sendchannel.transfer(in_I)\n",
    "#     dma2.sendchannel.transfer(in_I)\n",
    "    dma2.recvchannel.transfer(out_Q)\n",
    "    dma1.recvchannel.transfer(out_I)\n",
    "    \n",
    "    # dma3.recvchannel.wait()\n",
    "    print(\"waiting\")\n",
    "    dma1.sendchannel.wait()\n",
    "    dma2.recvchannel.wait()\n",
    "    dma1.recvchannel.wait()\n",
    "#     dma2.sendchannel.wait()\n",
    "        \n",
    "        \n",
    "    print(out_I)\n",
    "    print(out_Q)\n"
   ]
  },
  {
   "cell_type": "code",
   "execution_count": null,
   "id": "c77d5ce1",
   "metadata": {},
   "outputs": [],
   "source": [
    "print(out_I)\n",
    "print(out_I.shape)\n",
    "print(out_Q)\n",
    "print(out_Q.shape)"
   ]
  },
  {
   "cell_type": "code",
   "execution_count": null,
   "id": "9f83ecc9",
   "metadata": {},
   "outputs": [],
   "source": [
    "plt.plot(out_I, \"r\")\n",
    "plt.plot(out_Q, \"b\")\n",
    "plt.show()"
   ]
  },
  {
   "cell_type": "markdown",
   "id": "a7ac969c",
   "metadata": {},
   "source": [
    "## Get output of DMA to C++ downsample ARM code"
   ]
  },
  {
   "cell_type": "code",
   "execution_count": null,
   "id": "e3a7cf79",
   "metadata": {},
   "outputs": [],
   "source": [
    "#call C function"
   ]
  }
 ],
 "metadata": {
  "kernelspec": {
   "display_name": "Python 3 (ipykernel)",
   "language": "python",
   "name": "python3"
  },
  "language_info": {
   "codemirror_mode": {
    "name": "ipython",
    "version": 3
   },
   "file_extension": ".py",
   "mimetype": "text/x-python",
   "name": "python",
   "nbconvert_exporter": "python",
   "pygments_lexer": "ipython3",
   "version": "3.10.4"
  }
 },
 "nbformat": 4,
 "nbformat_minor": 5
}
