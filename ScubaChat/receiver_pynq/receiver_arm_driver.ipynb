{
 "cells": [
  {
   "cell_type": "markdown",
   "id": "731c5f57",
   "metadata": {},
   "source": [
    "## Interfacing with XADC\n",
    "\n",
    "TODO: Update code to DMA XADC\n",
    "\n",
    "The AD2 uses I2C protocol so we have to use the I2C communication. The PS is what handles the communication over I2C devices. Our software on the ARM has to read from the device and then what I think makes sense is we have a DMA that can transfer the large amount of data between the memory and peripheral (AD2) in the PL. Then afterward the DMA will bring our data back to PS and it will go through the downsampled code."
   ]
  },
  {
   "cell_type": "code",
   "execution_count": null,
   "id": "93dd08c9",
   "metadata": {},
   "outputs": [],
   "source": [
    "from pynq import Overlay\n",
    "from pynq.lib.iic import AxiIIC\n"
   ]
  },
  {
   "cell_type": "code",
   "execution_count": null,
   "id": "1ab6f511",
   "metadata": {},
   "outputs": [],
   "source": [
    "ol = Overlay('receiver_arm_bitstream/design_1.bit')\n",
    "ol.download()"
   ]
  },
  {
   "cell_type": "code",
   "execution_count": null,
   "id": "3a5da829",
   "metadata": {},
   "outputs": [],
   "source": [
    "ol?"
   ]
  },
  {
   "cell_type": "code",
   "execution_count": null,
   "id": "b9dc47ea",
   "metadata": {},
   "outputs": [],
   "source": [
    "iic = AxiIIC(ol.ip_dict[\"axi_iic_0\"])"
   ]
  },
  {
   "cell_type": "markdown",
   "id": "383aa081",
   "metadata": {},
   "source": [
    "iic_data = [0x28]\n",
    "rx_data = bytes(1)"
   ]
  },
  {
   "cell_type": "markdown",
   "id": "5cc8b088",
   "metadata": {},
   "source": [
    "addr = 0x28\n",
    "iic.send(addr, iic_data, len(iic_data),1)\n",
    "iic.receive(addr,rx_data,2,0)"
   ]
  },
  {
   "cell_type": "code",
   "execution_count": null,
   "id": "9df62657",
   "metadata": {},
   "outputs": [],
   "source": [
    "# Initialize the plot\n",
    "plt.figure(figsize=(10, 6))\n",
    "plt.xlabel('Time')\n",
    "plt.ylabel('Received Data')\n",
    "plt.title('Continuous Data Plot')\n",
    "\n",
    "addr = 0x28 # or 0x4C for write, 0x4D for read\n",
    "iic_data = [0x28]\n",
    "\n",
    "while True:\n",
    "    # Send data\n",
    "    iic.send(addr, iic_data, len(iic_data), 1)\n",
    "    \n",
    "    # Receive data\n",
    "    rx_data = bytearray(4)  # Adjusted for 32-bit data\n",
    "    iic.receive(addr, rx_data, 4, 0)  # Receive 4 bytes\n",
    "    \n",
    "    # Get the current time\n",
    "    current_time = time.time()\n",
    "    \n",
    "    # Convert the received data to an integer\n",
    "    received_value = int.from_bytes(rx_data, byteorder='big')\n",
    "    \n",
    "    # Plot the latest received data point\n",
    "    plt.scatter(current_time, received_value, color='b')\n",
    "    plt.gcf().autofmt_xdate()\n",
    "    plt.draw()\n",
    "    plt.pause(0.01)\n",
    "    \n",
    "    # Clear the previous output\n",
    "    clear_output(wait=True)\n",
    "    display(plt.gcf())\n",
    "    \n",
    "    # Add a delay if needed\n",
    "    time.sleep(0.5)  # Adjust the delay time as per your requirement"
   ]
  },
  {
   "cell_type": "markdown",
   "id": "f17a3488",
   "metadata": {},
   "source": [
    "## Interfacing with DMA to send information to Receiver IP Block"
   ]
  },
  {
   "cell_type": "code",
   "execution_count": 1,
   "id": "1dddd6a8",
   "metadata": {},
   "outputs": [
    {
     "data": {
      "application/javascript": [
       "\n",
       "try {\n",
       "require(['notebook/js/codecell'], function(codecell) {\n",
       "  codecell.CodeCell.options_default.highlight_modes[\n",
       "      'magic_text/x-csrc'] = {'reg':[/^%%microblaze/]};\n",
       "  Jupyter.notebook.events.one('kernel_ready.Kernel', function(){\n",
       "      Jupyter.notebook.get_cells().map(function(cell){\n",
       "          if (cell.cell_type == 'code'){ cell.auto_highlight(); } }) ;\n",
       "  });\n",
       "});\n",
       "} catch (e) {};\n"
      ]
     },
     "metadata": {},
     "output_type": "display_data"
    },
    {
     "data": {
      "application/javascript": [
       "\n",
       "try {\n",
       "require(['notebook/js/codecell'], function(codecell) {\n",
       "  codecell.CodeCell.options_default.highlight_modes[\n",
       "      'magic_text/x-csrc'] = {'reg':[/^%%pybind11/]};\n",
       "  Jupyter.notebook.events.one('kernel_ready.Kernel', function(){\n",
       "      Jupyter.notebook.get_cells().map(function(cell){\n",
       "          if (cell.cell_type == 'code'){ cell.auto_highlight(); } }) ;\n",
       "  });\n",
       "});\n",
       "} catch (e) {};\n"
      ]
     },
     "metadata": {},
     "output_type": "display_data"
    }
   ],
   "source": [
    "from pynq import Overlay\n",
    "import numpy as np\n",
    "from pynq import allocate\n",
    "from pynq.lib import dma\n",
    "from scipy.linalg import dft\n",
    "import matplotlib.pyplot as plt"
   ]
  },
  {
   "cell_type": "code",
   "execution_count": 2,
   "id": "0b3a1798",
   "metadata": {},
   "outputs": [],
   "source": [
    "ol=Overlay('receiver_arm_bitstream/design_1.bit')"
   ]
  },
  {
   "cell_type": "code",
   "execution_count": 3,
   "id": "cfeac6d6",
   "metadata": {},
   "outputs": [],
   "source": [
    "ol?"
   ]
  },
  {
   "cell_type": "code",
   "execution_count": 8,
   "id": "1e2d6dad",
   "metadata": {},
   "outputs": [],
   "source": [
    "dma1=ol.axi_dma_0\n",
    "dma2=ol.axi_dma_1"
   ]
  },
  {
   "cell_type": "code",
   "execution_count": 16,
   "id": "10e7fc40",
   "metadata": {},
   "outputs": [],
   "source": [
    "NUM_SAMPLES=236\n",
    "in_I = allocate(shape=(1,), dtype=np.float32) \n",
    "out_I = allocate(shape=(NUM_SAMPLES,), dtype=np.float32) \n",
    "out_Q = allocate(shape=(NUM_SAMPLES,), dtype=np.float32)\n",
    "\n",
    "in_I[0] = 5.0\n",
    "    "
   ]
  },
  {
   "cell_type": "code",
   "execution_count": 18,
   "id": "70ceee9c",
   "metadata": {},
   "outputs": [
    {
     "ename": "RuntimeError",
     "evalue": "DMA channel not idle",
     "output_type": "error",
     "traceback": [
      "\u001b[0;31m---------------------------------------------------------------------------\u001b[0m",
      "\u001b[0;31mRuntimeError\u001b[0m                              Traceback (most recent call last)",
      "Input \u001b[0;32mIn [18]\u001b[0m, in \u001b[0;36m<cell line: 13>\u001b[0;34m()\u001b[0m\n\u001b[1;32m     13\u001b[0m \u001b[38;5;28;01mfor\u001b[39;00m i \u001b[38;5;129;01min\u001b[39;00m \u001b[38;5;28mrange\u001b[39m(\u001b[38;5;241m0\u001b[39m,NUM_SAMPLES):\n\u001b[1;32m     14\u001b[0m     dma1\u001b[38;5;241m.\u001b[39msendchannel\u001b[38;5;241m.\u001b[39mtransfer(in_I)\n\u001b[0;32m---> 15\u001b[0m     \u001b[43mdma2\u001b[49m\u001b[38;5;241;43m.\u001b[39;49m\u001b[43mrecvchannel\u001b[49m\u001b[38;5;241;43m.\u001b[39;49m\u001b[43mtransfer\u001b[49m\u001b[43m(\u001b[49m\u001b[43mout_Q\u001b[49m\u001b[43m)\u001b[49m\n\u001b[1;32m     16\u001b[0m     dma1\u001b[38;5;241m.\u001b[39mrecvchannel\u001b[38;5;241m.\u001b[39mtransfer(out_I)\n\u001b[1;32m     18\u001b[0m \u001b[38;5;66;03m# dma3.recvchannel.wait()\u001b[39;00m\n",
      "File \u001b[0;32m/usr/local/share/pynq-venv/lib/python3.10/site-packages/pynq/lib/dma.py:138\u001b[0m, in \u001b[0;36m_SDMAChannel.transfer\u001b[0;34m(self, array, start, nbytes)\u001b[0m\n\u001b[1;32m    136\u001b[0m     \u001b[38;5;28;01mraise\u001b[39;00m \u001b[38;5;167;01mRuntimeError\u001b[39;00m(\u001b[38;5;124m\"\u001b[39m\u001b[38;5;124mDMA channel not started\u001b[39m\u001b[38;5;124m\"\u001b[39m)\n\u001b[1;32m    137\u001b[0m \u001b[38;5;28;01mif\u001b[39;00m \u001b[38;5;129;01mnot\u001b[39;00m \u001b[38;5;28mself\u001b[39m\u001b[38;5;241m.\u001b[39midle \u001b[38;5;129;01mand\u001b[39;00m \u001b[38;5;129;01mnot\u001b[39;00m \u001b[38;5;28mself\u001b[39m\u001b[38;5;241m.\u001b[39m_first_transfer:\n\u001b[0;32m--> 138\u001b[0m     \u001b[38;5;28;01mraise\u001b[39;00m \u001b[38;5;167;01mRuntimeError\u001b[39;00m(\u001b[38;5;124m\"\u001b[39m\u001b[38;5;124mDMA channel not idle\u001b[39m\u001b[38;5;124m\"\u001b[39m)\n\u001b[1;32m    139\u001b[0m \u001b[38;5;28;01mif\u001b[39;00m nbytes \u001b[38;5;241m==\u001b[39m \u001b[38;5;241m0\u001b[39m:\n\u001b[1;32m    140\u001b[0m     nbytes \u001b[38;5;241m=\u001b[39m array\u001b[38;5;241m.\u001b[39mnbytes \u001b[38;5;241m-\u001b[39m start\n",
      "\u001b[0;31mRuntimeError\u001b[0m: DMA channel not idle"
     ]
    }
   ],
   "source": [
    "receiver_ip = ol.receiver_0\n",
    "receiver_ip.write(0x00,1)\n",
    "# dma3.recvchannel.start()  \n",
    "status_rx1 = dma1.recvchannel.running\n",
    "status_rx2 = dma2.recvchannel.running\n",
    "status_tx1 = dma1.sendchannel.running\n",
    "# dma2.recvchannel.start()\n",
    "# dma1.recvchannel.start()\n",
    "# dma1.sendchannel.start()\n",
    "# dma3.sendchannel.start()\n",
    "\n",
    "# dma3.recvchannel.transfer(out_Q) \n",
    "for i in range(0,NUM_SAMPLES):\n",
    "    dma1.sendchannel.transfer(in_I)\n",
    "    dma2.recvchannel.transfer(out_Q)\n",
    "    dma1.recvchannel.transfer(out_I)\n",
    "\n",
    "# dma3.recvchannel.wait()\n",
    "    dma2.recvchannel.wait()\n",
    "    dma1.recvchannel.wait()\n",
    "    dma1.sendchannel.wait()\n",
    "    print(out_I)\n",
    "    print(out_Q)\n"
   ]
  },
  {
   "cell_type": "code",
   "execution_count": 9,
   "id": "c77d5ce1",
   "metadata": {},
   "outputs": [
    {
     "name": "stdout",
     "output_type": "stream",
     "text": [
      "[5. 5. 5. 5. 5. 5. 5. 5. 5. 5. 5. 5. 5. 5. 5. 5. 5. 5. 5. 5. 5. 5. 5. 5.\n",
      " 5. 5. 5. 5. 5. 5. 5. 5. 5. 5. 5. 5. 5. 5. 5. 5. 5. 5. 5. 5. 5. 5. 5. 5.\n",
      " 5. 5. 5. 5. 5. 5. 5. 5. 5. 5. 5. 5. 5. 5. 5. 5. 5. 5. 5. 5. 5. 5. 5. 5.\n",
      " 5. 5. 5. 5. 5. 5. 5. 5. 5. 5. 5. 5. 5. 5. 5. 5. 5. 5. 5. 5. 5. 5. 5. 5.\n",
      " 5. 5. 5. 5. 5. 5. 5. 5. 5. 5. 5. 5. 5. 5. 5. 5. 5. 5. 5. 5. 5. 5. 5. 5.\n",
      " 5. 5. 5. 5. 5. 5. 5. 5. 5. 5. 5. 5. 5. 5. 5. 5. 5. 5. 5. 5. 5. 5. 5. 5.\n",
      " 5. 5. 5. 5. 5. 5. 5. 5. 5. 5. 5. 5. 5. 5. 5. 5. 5. 5. 5. 5. 5. 5. 5. 5.\n",
      " 5. 5. 5. 5. 5. 5. 5. 5. 5. 5. 5. 5. 5. 5. 5. 5. 5. 5. 5. 5. 5. 5. 5. 5.\n",
      " 5. 5. 5. 5. 5. 5. 5. 5. 5. 5. 5. 5. 5. 5. 5. 5. 5. 5. 5. 5. 5. 5. 5. 5.\n",
      " 5. 5. 5. 5. 5. 5. 5. 5. 5. 5. 5. 5. 5. 5. 5. 5. 5. 5. 5. 5.]\n",
      "(236,)\n",
      "[5. 5. 5. 5. 5. 5. 5. 5. 5. 5. 5. 5. 5. 5. 5. 5. 5. 5. 5. 5. 5. 5. 5. 5.\n",
      " 5. 5. 5. 5. 5. 5. 5. 5. 5. 5. 5. 5. 5. 5. 5. 5. 5. 5. 5. 5. 5. 5. 5. 5.\n",
      " 5. 5. 5. 5. 5. 5. 5. 5. 5. 5. 5. 5. 5. 5. 5. 5. 5. 5. 5. 5. 5. 5. 5. 5.\n",
      " 5. 5. 5. 5. 5. 5. 5. 5. 5. 5. 5. 5. 5. 5. 5. 5. 5. 5. 5. 5. 5. 5. 5. 5.\n",
      " 5. 5. 5. 5. 5. 5. 5. 5. 5. 5. 5. 5. 5. 5. 5. 5. 5. 5. 5. 5. 5. 5. 5. 5.\n",
      " 5. 5. 5. 5. 5. 5. 5. 5. 5. 5. 5. 5. 5. 5. 5. 5. 5. 5. 5. 5. 5. 5. 5. 5.\n",
      " 5. 5. 5. 5. 5. 5. 5. 5. 5. 5. 5. 5. 5. 5. 5. 5. 5. 5. 5. 5. 5. 5. 5. 5.\n",
      " 5. 5. 5. 5. 5. 5. 5. 5. 5. 5. 5. 5. 5. 5. 5. 5. 5. 5. 5. 5. 5. 5. 5. 5.\n",
      " 5. 5. 5. 5. 5. 5. 5. 5. 5. 5. 5. 5. 5. 5. 5. 5. 5. 5. 5. 5. 5. 5. 5. 5.\n",
      " 5. 5. 5. 5. 5. 5. 5. 5. 5. 5. 5. 5. 5. 5. 5. 5. 5. 5. 5. 5.]\n",
      "(236,)\n"
     ]
    }
   ],
   "source": [
    "print(out_I)\n",
    "print(out_I.shape)\n",
    "print(out_Q)\n",
    "print(out_Q.shape)"
   ]
  },
  {
   "cell_type": "code",
   "execution_count": null,
   "id": "9f83ecc9",
   "metadata": {},
   "outputs": [],
   "source": [
    "plt.plot(out_I, \"r\")\n",
    "plt.plot(out_Q, \"b\")\n",
    "plt.show()"
   ]
  },
  {
   "cell_type": "markdown",
   "id": "a7ac969c",
   "metadata": {},
   "source": [
    "## Get output of DMA to C++ downsample ARM code"
   ]
  },
  {
   "cell_type": "code",
   "execution_count": null,
   "id": "e3a7cf79",
   "metadata": {},
   "outputs": [],
   "source": [
    "#call C function"
   ]
  }
 ],
 "metadata": {
  "kernelspec": {
   "display_name": "Python 3 (ipykernel)",
   "language": "python",
   "name": "python3"
  },
  "language_info": {
   "codemirror_mode": {
    "name": "ipython",
    "version": 3
   },
   "file_extension": ".py",
   "mimetype": "text/x-python",
   "name": "python",
   "nbconvert_exporter": "python",
   "pygments_lexer": "ipython3",
   "version": "3.10.4"
  }
 },
 "nbformat": 4,
 "nbformat_minor": 5
}
