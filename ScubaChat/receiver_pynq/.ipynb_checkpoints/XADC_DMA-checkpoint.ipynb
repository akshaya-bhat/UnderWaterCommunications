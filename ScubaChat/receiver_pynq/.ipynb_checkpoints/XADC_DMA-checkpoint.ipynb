{
 "cells": [
  {
   "cell_type": "code",
   "execution_count": 1,
   "id": "4c862b8e",
   "metadata": {},
   "outputs": [],
   "source": [
    "import pynq\n",
    "from pynq import GPIO\n",
    "\n",
    "__author__ = \"Adam Taylor\"\n",
    "__copyright__ = \"Copyright 2020, Adiuvo\"\n",
    "__email__ = \"Adam@adiuvoengineering.com\"\n",
    "\n",
    "\n",
    "class xadc_scopeOverlay(pynq.Overlay):\n",
    "    \"\"\".\n",
    "    \"\"\"\n",
    "    def __init__(self, bitfile, **kwargs):\n",
    "        super().__init__(bitfile, **kwargs)\n",
    "        if self.is_loaded():\n",
    "            pass"
   ]
  },
  {
   "cell_type": "code",
   "execution_count": 2,
   "id": "6f721738",
   "metadata": {},
   "outputs": [
    {
     "data": {
      "application/javascript": [
       "\n",
       "try {\n",
       "require(['notebook/js/codecell'], function(codecell) {\n",
       "  codecell.CodeCell.options_default.highlight_modes[\n",
       "      'magic_text/x-csrc'] = {'reg':[/^%%microblaze/]};\n",
       "  Jupyter.notebook.events.one('kernel_ready.Kernel', function(){\n",
       "      Jupyter.notebook.get_cells().map(function(cell){\n",
       "          if (cell.cell_type == 'code'){ cell.auto_highlight(); } }) ;\n",
       "  });\n",
       "});\n",
       "} catch (e) {};\n"
      ]
     },
     "metadata": {},
     "output_type": "display_data"
    },
    {
     "data": {
      "application/javascript": [
       "\n",
       "try {\n",
       "require(['notebook/js/codecell'], function(codecell) {\n",
       "  codecell.CodeCell.options_default.highlight_modes[\n",
       "      'magic_text/x-csrc'] = {'reg':[/^%%pybind11/]};\n",
       "  Jupyter.notebook.events.one('kernel_ready.Kernel', function(){\n",
       "      Jupyter.notebook.get_cells().map(function(cell){\n",
       "          if (cell.cell_type == 'code'){ cell.auto_highlight(); } }) ;\n",
       "  });\n",
       "});\n",
       "} catch (e) {};\n"
      ]
     },
     "metadata": {},
     "output_type": "display_data"
    }
   ],
   "source": [
    "from pynq import pl\n",
    "from pynq import overlay\n",
    "ol = xadc_scopeOverlay('design_1.bit')\n",
    "\n"
   ]
  },
  {
   "cell_type": "code",
   "execution_count": 3,
   "id": "0bc9a63c",
   "metadata": {},
   "outputs": [],
   "source": [
    "ol?"
   ]
  },
  {
   "cell_type": "code",
   "execution_count": 4,
   "id": "6d3e463f",
   "metadata": {},
   "outputs": [
    {
     "name": "stdout",
     "output_type": "stream",
     "text": [
      "[8197 8186 8189 8173 8181 8155 8169 8191 8187 8185 8191 8171 8197 8185\n",
      " 8175 8179 8193 8179 8211 8194 8182 8193 8177 8179 8165 8171 8182 8193\n",
      " 8207 8211 8215 8150 8174 8187 8182 8159 8171 8162 8194 8157 8186 8189\n",
      " 8212 8195 8197 8173 8182 8185 8165 8183 8172 8163 8184 8165 8217 8181\n",
      " 8155 8192 8185 8193 8193 8188 8193 8177 8167 8181 8182 8159 8183 8168\n",
      " 8205 8201 8179 8215 8211 8205 8176 8167 8189 8201 8153 8169 8174 8215\n",
      " 8207 8178 8163 8207 8187 8197 8174 8189 8171 8151 8166 8181 8180 8177\n",
      " 8157 8187 8195 8167 8175 8177 8176 8186 8189 8165 8175 8199 8174 8155\n",
      " 8165 8191 8171 8164 8191 8179 8179 8193 8183 8200 8171 8179 8187 8173\n",
      " 8162 8177]\n",
      "[8146 8160 8169 8165 8197 8187 8159 8175 8190 8191 8151 8219 8181 8181\n",
      " 8166 8185 8189 8157 8177 8188 8182 8161 8179 8178 8194 8180 8201 8185\n",
      " 8169 8164 8195 8184 8160 8193 8162 8194 8166 8185 8169 8189 8195 8161\n",
      " 8183 8169 8180 8173 8175 8197 8161 8167 8179 8162 8165 8189 8181 8185\n",
      " 8181 8178 8204 8185 8196 8162 8177 8157 8185 8193 8197 8182 8183 8199\n",
      " 8178 8183 8177 8182 8165 8154 8183 8181 8193 8205 8211 8165 8175 8187\n",
      " 8179 8179 8173 8195 8183 8169 8168 8211 8193 8159 8179 8185 8185 8188\n",
      " 8193 8187 8195 8186 8215 8206 8155 8197 8178 8189 8194 8199 8179 8173\n",
      " 8193 8167 8167 8179 8189 8195 8191 8208 8185 8199 8146 8205 8193 8190\n",
      " 8173 8211]\n",
      "[8165 8217 8175 8189 8185 8198 8161 8201 8161 8211 8181 8193 8185 8177\n",
      " 8193 8181 8179 8161 8169 8193 8151 8185 8169 8201 8190 8163 8162 8217\n",
      " 8208 8196 8175 8194 8193 8166 8183 8193 8173 8195 8195 8179 8177 8170\n",
      " 8173 8187 8193 8191 8179 8175 8195 8201 8185 8173 8182 8183 8194 8176\n",
      " 8191 8197 8209 8190 8199 8209 8158 8213 8195 8169 8185 8186 8182 8177\n",
      " 8185 8177 8173 8193 8177 8174 8157 8193 8187 8176 8193 8189 8187 8169\n",
      " 8161 8194 8171 8162 8185 8185 8214 8142 8215 8175 8192 8192 8169 8181\n",
      " 8178 8190 8193 8173 8201 8193 8192 8158 8172 8185 8176 8154 8186 8183\n",
      " 8185 8185 8175 8167 8170 8174 8201 8215 8161 8181 8193 8179 8195 8182\n",
      " 8181 8208]\n",
      "[8222 8177 8191 8163 8176 8195 8185 8207 8181 8169 8185 8178 8177 8184\n",
      " 8183 8175 8181 8193 8189 8185 8175 8197 8194 8165 8167 8193 8166 8163\n",
      " 8181 8185 8207 8170 8186 8177 8194 8178 8176 8204 8201 8185 8198 8199\n",
      " 8192 8191 8156 8162 8183 8178 8178 8181 8211 8174 8181 8177 8174 8192\n",
      " 8191 8155 8169 8174 8193 8171 8173 8163 8189 8181 8174 8171 8185 8179\n",
      " 8169 8187 8171 8162 8194 8176 8185 8162 8172 8183 8171 8212 8181 8191\n",
      " 8197 8195 8177 8211 8165 8175 8182 8191 8173 8179 8174 8168 8181 8193\n",
      " 8167 8165 8201 8159 8189 8163 8174 8194 8195 8192 8172 8184 8161 8179\n",
      " 8173 8199 8211 8200 8168 8189 8208 8198 8208 8177 8201 8193 8211 8187\n",
      " 8171 8189]\n",
      "[8189 8190 8189 8177 8172 8205 8179 8185 8178 8173 8179 8165 8213 8163\n",
      " 8207 8187 8171 8201 8157 8163 8169 8171 8173 8157 8172 8137 8197 8158\n",
      " 8173 8173 8205 8187 8189 8177 8161 8205 8152 8186 8191 8201 8189 8211\n",
      " 8178 8189 8187 8191 8173 8191 8193 8182 8163 8189 8161 8188 8183 8193\n",
      " 8204 8213 8207 8189 8183 8181 8184 8181 8177 8162 8234 8173 8178 8185\n",
      " 8200 8242 8177 8194 8151 8169 8180 8177 8185 8197 8171 8160 8179 8185\n",
      " 8185 8211 8204 8186 8184 8199 8194 8181 8156 8197 8185 8129 8145 8189\n",
      " 8204 8194 8211 8185 8200 8150 8207 8189 8182 8176 8201 8176 8151 8194\n",
      " 8178 8178 8181 8183 8205 8146 8161 8177 8219 8187 8160 8175 8204 8163\n",
      " 8171 8193]\n"
     ]
    },
    {
     "data": {
      "image/png": "[encoded data removed]",
      "text/plain": [
       "<Figure size 432x288 with 1 Axes>"
      ]
     },
     "metadata": {
      "needs_background": "light"
     },
     "output_type": "display_data"
    }
   ],
   "source": [
    "from pynq import pl\n",
    "from pynq import overlay\n",
    "# from pynq.overlays.xadc_scope import xadc_scopeOverlay\n",
    "overlay = xadc_scopeOverlay('design_1.bit')\n",
    "\n",
    "import numpy as np\n",
    "from pynq import allocate\n",
    "from pynq import Overlay\n",
    "import matplotlib.pyplot as mp\n",
    "\n",
    "input_buffer = allocate(shape=(128,), dtype=np.uint16)\n",
    "\n",
    "dma = overlay.axi_dma_0\n",
    "recvstatus = dma.recvchannel.running\n",
    "\n",
    "dma.buffer_max_size\n",
    "samples = 0\n",
    "maxSamples = 5\n",
    "xAdcVoltages = np.copy(input_buffer)\n",
    "\n",
    "\n",
    "while samples < maxSamples:\n",
    "    dma.recvchannel.transfer(input_buffer)\n",
    "    dma.recvchannel.wait()\n",
    "    print(input_buffer)   \n",
    "    np.append(xAdcVoltages,input_buffer)\n",
    "    samples += 1\n",
    "\n",
    "mp.plot(input_buffer)\n",
    "mp.show()\n",
    "#     mp.clf()\n"
   ]
  },
  {
   "cell_type": "code",
   "execution_count": null,
   "id": "33d1e0cf",
   "metadata": {},
   "outputs": [],
   "source": []
  }
 ],
 "metadata": {
  "kernelspec": {
   "display_name": "Python 3 (ipykernel)",
   "language": "python",
   "name": "python3"
  },
  "language_info": {
   "codemirror_mode": {
    "name": "ipython",
    "version": 3
   },
   "file_extension": ".py",
   "mimetype": "text/x-python",
   "name": "python",
   "nbconvert_exporter": "python",
   "pygments_lexer": "ipython3",
   "version": "3.10.4"
  }
 },
 "nbformat": 4,
 "nbformat_minor": 5
}
