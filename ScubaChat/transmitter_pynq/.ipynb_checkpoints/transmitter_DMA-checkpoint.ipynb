{
 "cells": [
  {
   "cell_type": "code",
   "execution_count": 25,
   "id": "13f8a6bf",
   "metadata": {},
   "outputs": [],
   "source": [
    "from pynq import Overlay\n",
    "import numpy as np\n",
    "from pynq import allocate\n",
    "from pynq.lib import dma\n",
    "from scipy.linalg import dft\n",
    "import matplotlib.pyplot as plt"
   ]
  },
  {
   "cell_type": "code",
   "execution_count": 26,
   "id": "11a3eab0",
   "metadata": {},
   "outputs": [],
   "source": [
    "ol=Overlay('design_1_good.bit')"
   ]
  },
  {
   "cell_type": "code",
   "execution_count": 27,
   "id": "acd360af",
   "metadata": {},
   "outputs": [],
   "source": [
    "ol?"
   ]
  },
  {
   "cell_type": "code",
   "execution_count": 28,
   "id": "1db82f38",
   "metadata": {},
   "outputs": [],
   "source": [
    "dma1=ol.axi_dma_0\n",
    "dma2=ol.axi_dma_1"
   ]
  },
  {
   "cell_type": "code",
   "execution_count": 29,
   "id": "9a558213",
   "metadata": {},
   "outputs": [],
   "source": [
    "NUM_SAMPLES = 164\n",
    "\n",
    "real_error=np.zeros(NUM_SAMPLES)\n",
    "imag_error=np.zeros(NUM_SAMPLES)\n",
    "ind=np.arange(NUM_SAMPLES)\n",
    "real_rmse=np.zeros(NUM_SAMPLES)\n",
    "imag_rmse=np.zeros(NUM_SAMPLES)"
   ]
  },
  {
   "cell_type": "code",
   "execution_count": 30,
   "id": "3ad546c9",
   "metadata": {},
   "outputs": [
    {
     "name": "stdout",
     "output_type": "stream",
     "text": [
      "[1. 0. 1. 1. 0. 1. 1. 1. 1. 1. 0. 0. 0. 0. 1. 0. 0. 0. 0. 0. 0. 1. 0. 0.\n",
      " 1. 1. 0. 0. 0. 0. 1. 0. 1. 1. 0. 0. 0. 0. 0. 1. 0. 0. 1. 0. 1. 1. 0. 1.\n",
      " 0. 0.]\n",
      "[1. 1. 1. 0. 0. 1. 1. 0. 0. 1. 0. 1. 1. 1. 0. 0. 0. 1. 0. 1. 0. 1. 0. 1.\n",
      " 1. 1. 1. 0. 1. 0. 0. 1. 1. 0. 1. 1. 1. 1. 1. 1. 0. 0. 1. 0. 0. 0. 1. 1.\n",
      " 1. 0.]\n"
     ]
    }
   ],
   "source": [
    "# Allocate regular numpy arrays to store input and output\n",
    "# data = np.fromfile(\"input_file.dat\", dtype=np.int16)\n",
    "in_I = allocate(shape=(50,), dtype=np.int16)\n",
    "in_Q = allocate(shape=(50,), dtype=np.int16)\n",
    "# Separate data into dataI and dataQ\n",
    "# for i in range(NUM_SAMPLES):\n",
    "#     in_I[i] = 1  # Every other element starting from the first (index 0)\n",
    "#     in_Q[i] = 0\n",
    "with open(\"input_file.dat\", \"rb\") as file:\n",
    "    # Read data from the file\n",
    "    data = np.fromfile(file, dtype=np.int16)\n",
    "\n",
    "# Populate in_I and in_Q arrays directly without using append\n",
    "for i in range(50):\n",
    "    in_I[i] = data[2*i]    # Every other element starting from the first\n",
    "    in_Q[i] = data[2*i + 1]  # Every other element starting from the second\n",
    "\n",
    "    \n",
    "\n",
    "print(in_I)\n",
    "print(in_Q)\n",
    "\n",
    "out_I = allocate(shape=(NUM_SAMPLES,), dtype=np.int16) \n",
    "out_Q = allocate(shape=(NUM_SAMPLES,), dtype=np.int16)"
   ]
  },
  {
   "cell_type": "code",
   "execution_count": 31,
   "id": "57db88da",
   "metadata": {},
   "outputs": [],
   "source": [
    "transmitter_ip = ol.transmitter_0\n",
    "transmitter_ip.write(0x00,1)\n",
    "dma2.recvchannel.start()\n",
    "dma2.sendchannel.start()                # Start the DMA send and recv channels.\n",
    "dma1.recvchannel.start()\n",
    "dma1.sendchannel.start()\n",
    "\n",
    "dma2.recvchannel.transfer(out_I)        #Send and recv data \n",
    "dma2.sendchannel.transfer(in_Q)\n",
    "dma1.recvchannel.transfer(out_Q)\n",
    "dma1.sendchannel.transfer(in_I)\n",
    "\n",
    "dma2.recvchannel.wait()\n",
    "dma2.sendchannel.wait()                # Wait for the DMA to send and recv data.\n",
    "dma1.recvchannel.wait()\n",
    "dma1.sendchannel.wait()"
   ]
  },
  {
   "cell_type": "code",
   "execution_count": 32,
   "id": "2bde43ca",
   "metadata": {},
   "outputs": [
    {
     "name": "stdout",
     "output_type": "stream",
     "text": [
      "[0.e+00 0.e+00 0.e+00 0.e+00 0.e+00 0.e+00 0.e+00 0.e+00 0.e+00 0.e+00\n",
      " 0.e+00 0.e+00 0.e+00 0.e+00 0.e+00 0.e+00 0.e+00 0.e+00 0.e+00 0.e+00\n",
      " 0.e+00 0.e+00 0.e+00 0.e+00 0.e+00 0.e+00 0.e+00 0.e+00 0.e+00 0.e+00\n",
      " 0.e+00 0.e+00 0.e+00 0.e+00 0.e+00 0.e+00 0.e+00 0.e+00 0.e+00 0.e+00\n",
      " 0.e+00 0.e+00 0.e+00 0.e+00 0.e+00 0.e+00 0.e+00 0.e+00 0.e+00 0.e+00\n",
      " 0.e+00 0.e+00 0.e+00 0.e+00 0.e+00 0.e+00 0.e+00 0.e+00 0.e+00 0.e+00\n",
      " 0.e+00 0.e+00 0.e+00 0.e+00 6.e-08 6.e-08 6.e-08    nan    nan 6.e-08\n",
      " 6.e-08    nan    nan 6.e-08    nan 6.e-08 6.e-08 6.e-08    nan 6.e-08\n",
      "    nan    nan    nan 6.e-08 6.e-08    nan 6.e-08 6.e-08 6.e-08 6.e-08\n",
      " 6.e-08    nan    nan    nan 6.e-08 6.e-08    nan    nan 6.e-08    nan\n",
      " 6.e-08    nan    nan 6.e-08    nan 6.e-08 6.e-08 6.e-08    nan 6.e-08\n",
      "    nan    nan    nan 6.e-08 6.e-08    nan 6.e-08 6.e-08 6.e-08 6.e-08\n",
      " 6.e-08    nan    nan    nan 6.e-08 6.e-08    nan    nan 6.e-08    nan\n",
      " 6.e-08    nan    nan 6.e-08    nan 6.e-08 6.e-08 6.e-08    nan 6.e-08\n",
      "    nan    nan    nan 6.e-08 6.e-08    nan 6.e-08 6.e-08 6.e-08 6.e-08\n",
      " 6.e-08    nan    nan    nan 6.e-08 6.e-08    nan    nan 6.e-08    nan\n",
      " 6.e-08    nan    nan 6.e-08]\n",
      "(164,)\n"
     ]
    }
   ],
   "source": [
    "print(out_I)\n",
    "print(out_I.shape)"
   ]
  },
  {
   "cell_type": "code",
   "execution_count": 33,
   "id": "189c02f8",
   "metadata": {},
   "outputs": [
    {
     "name": "stdout",
     "output_type": "stream",
     "text": [
      "[6.e-08 6.e-08 6.e-08 6.e-08    nan 6.e-08    nan    nan    nan 6.e-08\n",
      " 6.e-08 6.e-08    nan    nan 6.e-08 6.e-08 6.e-08    nan    nan 6.e-08\n",
      "    nan    nan 6.e-08    nan    nan    nan    nan 6.e-08    nan 6.e-08\n",
      "    nan 0.e+00    nan    nan    nan    nan    nan 6.e-08    nan 6.e-08\n",
      " 6.e-08 6.e-08    nan    nan    nan 6.e-08 6.e-08    nan 6.e-08 6.e-08\n",
      "    nan    nan 6.e-08    nan    nan 6.e-08    nan    nan    nan    nan\n",
      " 6.e-08    nan 6.e-08    nan 6.e-08 6.e-08 6.e-08    nan    nan 6.e-08\n",
      " 6.e-08    nan    nan 6.e-08    nan 6.e-08 6.e-08 6.e-08    nan 6.e-08\n",
      "    nan    nan    nan 6.e-08 6.e-08    nan 6.e-08 6.e-08 6.e-08 6.e-08\n",
      " 6.e-08    nan    nan    nan 6.e-08 6.e-08    nan    nan 6.e-08    nan\n",
      " 6.e-08    nan    nan 6.e-08    nan 6.e-08 6.e-08 6.e-08    nan 6.e-08\n",
      "    nan    nan    nan 6.e-08 6.e-08    nan 6.e-08 6.e-08 6.e-08 6.e-08\n",
      " 6.e-08    nan    nan    nan 6.e-08 6.e-08    nan    nan 6.e-08    nan\n",
      " 6.e-08    nan    nan 6.e-08    nan 6.e-08 6.e-08 6.e-08    nan 6.e-08\n",
      "    nan    nan    nan 6.e-08 6.e-08    nan 6.e-08 6.e-08 6.e-08 6.e-08\n",
      " 6.e-08    nan    nan    nan 6.e-08 6.e-08    nan    nan 6.e-08    nan\n",
      " 6.e-08    nan    nan 6.e-08]\n",
      "(164,)\n"
     ]
    }
   ],
   "source": [
    "print(out_Q)\n",
    "print(out_Q.shape)"
   ]
  },
  {
   "cell_type": "code",
   "execution_count": 34,
   "id": "1d2ef2a1",
   "metadata": {},
   "outputs": [
    {
     "data": {
      "image/png": "[encoded data removed]",
      "text/plain": [
       "<Figure size 432x288 with 1 Axes>"
      ]
     },
     "metadata": {
      "needs_background": "light"
     },
     "output_type": "display_data"
    }
   ],
   "source": [
    "plt.plot(out_I, \"r\")\n",
    "plt.plot(out_Q, \"b\")\n",
    "plt.show()\n",
    "\n"
   ]
  },
  {
   "cell_type": "code",
   "execution_count": null,
   "id": "5ea1c2f7",
   "metadata": {},
   "outputs": [],
   "source": []
  }
 ],
 "metadata": {
  "kernelspec": {
   "display_name": "Python 3 (ipykernel)",
   "language": "python",
   "name": "python3"
  },
  "language_info": {
   "codemirror_mode": {
    "name": "ipython",
    "version": 3
   },
   "file_extension": ".py",
   "mimetype": "text/x-python",
   "name": "python",
   "nbconvert_exporter": "python",
   "pygments_lexer": "ipython3",
   "version": "3.10.4"
  }
 },
 "nbformat": 4,
 "nbformat_minor": 5
}
