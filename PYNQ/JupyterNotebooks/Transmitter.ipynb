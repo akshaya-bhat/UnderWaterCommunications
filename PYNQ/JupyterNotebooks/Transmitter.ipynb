{
 "cells": [
  {
   "cell_type": "code",
   "execution_count": 1,
   "id": "2cd13076",
   "metadata": {},
   "outputs": [
    {
     "data": {
      "application/javascript": [
       "\n",
       "try {\n",
       "require(['notebook/js/codecell'], function(codecell) {\n",
       "  codecell.CodeCell.options_default.highlight_modes[\n",
       "      'magic_text/x-csrc'] = {'reg':[/^%%microblaze/]};\n",
       "  Jupyter.notebook.events.one('kernel_ready.Kernel', function(){\n",
       "      Jupyter.notebook.get_cells().map(function(cell){\n",
       "          if (cell.cell_type == 'code'){ cell.auto_highlight(); } }) ;\n",
       "  });\n",
       "});\n",
       "} catch (e) {};\n"
      ]
     },
     "metadata": {},
     "output_type": "display_data"
    },
    {
     "data": {
      "application/javascript": [
       "\n",
       "try {\n",
       "require(['notebook/js/codecell'], function(codecell) {\n",
       "  codecell.CodeCell.options_default.highlight_modes[\n",
       "      'magic_text/x-csrc'] = {'reg':[/^%%pybind11/]};\n",
       "  Jupyter.notebook.events.one('kernel_ready.Kernel', function(){\n",
       "      Jupyter.notebook.get_cells().map(function(cell){\n",
       "          if (cell.cell_type == 'code'){ cell.auto_highlight(); } }) ;\n",
       "  });\n",
       "});\n",
       "} catch (e) {};\n"
      ]
     },
     "metadata": {},
     "output_type": "display_data"
    }
   ],
   "source": [
    "from pynq.overlays.base import BaseOverlay\n",
    "base = BaseOverlay(\"base.bit\")"
   ]
  },
  {
   "cell_type": "code",
   "execution_count": 2,
   "id": "750de22b",
   "metadata": {},
   "outputs": [],
   "source": [
    "from pynq.lib import Pmod_ADC, Pmod_DAC\n",
    "import time\n",
    "import ctypes\n",
    "import numpy as np\n",
    "import array\n",
    "from pynq import allocate\n",
    "import numpy as np "
   ]
  },
  {
   "cell_type": "code",
   "execution_count": 3,
   "id": "c7836f9e",
   "metadata": {},
   "outputs": [],
   "source": [
    "dac = Pmod_DAC(base.PMODB)"
   ]
  },
  {
   "cell_type": "code",
   "execution_count": 4,
   "id": "abe02867",
   "metadata": {},
   "outputs": [],
   "source": [
    "def run_transmit():\n",
    "    # Load transmit data from file\n",
    "    with open(\"/home/xilinx/pynq/tx_out.dat\", mode='rb') as file:\n",
    "        file_content = file.read()\n",
    "    float_strs = file_content.split(b\" \")\n",
    "    \n",
    "    volt_floats = [float(x) for x in float_strs if x != b'']\n",
    "    \n",
    "    max_voltage = max([abs(x) for x in volt_floats])\n",
    "    \n",
    "    # shift the voltages so all are positive and scale to 12 bit uint (store as 16 bit uint)\n",
    "    volt_pos = [x + max_voltage for x in volt_floats]\n",
    "    #DAC_MAX = 4095\n",
    "    DAC_MAX = 1638\n",
    "    volt_scaled = np.asarray([np.uint16(x*(DAC_MAX/(2*max_voltage))) for x in volt_pos])\n",
    "    #volt_scaled = array.array('i', [np.uint16(x*(DAC_MAX/(2*max_voltage))) for x in volt_pos])\n",
    "\n",
    "    length = len(volt_scaled)\n",
    "    py_buffer = allocate(shape=(length,), dtype=np.int32)\n",
    "    \n",
    "    for i in range(length):\n",
    "        py_buffer[i] = volt_scaled[i]\n",
    "        \n",
    "    #print(\"py_buffer physical address {}\".format(hex(py_buffer.physical_address)))\n",
    "    #print(py_buffer[0:10])\n",
    "    \n",
    "    #print(dir(volt_scaled.buffer_info()[0]))\n",
    "    #pointer, read_only_flag = volt_scaled.__array_interface__['data']\n",
    "    #print(hex(pointer))\n",
    "    #print((pointer))\n",
    "    #for i in range(len(volt_scaled)):\n",
    "    #    print(hex(ctypes.addressof(volt_scaled.buffer_info()[0].contents[i])))\n",
    "    #    print(volt_scaled[i].data)\n",
    "    \n",
    "    #print(\"writing to dac...\")\n",
    "    #while True:\n",
    "    \n",
    "    i = 1\n",
    "#    while i < 50:\n",
    "    while True:\n",
    "        dac.write(py_buffer.physical_address|0x00000003)\n",
    "        i = i+1\n",
    "    \n",
    "    #return py_buffer\n"
   ]
  },
  {
   "cell_type": "code",
   "execution_count": null,
   "id": "8ac12397",
   "metadata": {},
   "outputs": [],
   "source": [
    "run_transmit()"
   ]
  },
  {
   "cell_type": "markdown",
   "id": "977f015d",
   "metadata": {},
   "source": [
    "## Square Wave"
   ]
  },
  {
   "cell_type": "code",
   "execution_count": 5,
   "id": "05600a4c",
   "metadata": {},
   "outputs": [],
   "source": [
    "def run_transmit_sq():\n",
    "    # Load transmit data from file\n",
    "    with open(\"/home/xilinx/pynq/tx_out.dat\", mode='rb') as file:\n",
    "        file_content = file.read()\n",
    "    float_strs = file_content.split(b\" \")\n",
    "    \n",
    "    volt_floats = [float(x) for x in float_strs if x != b'']\n",
    "    \n",
    "    max_voltage = max([abs(x) for x in volt_floats])\n",
    "    \n",
    "    # shift the voltages so all are positive and scale to 12 bit uint (store as 16 bit uint)\n",
    "    volt_pos = [x + max_voltage for x in volt_floats]\n",
    "    #DAC_MAX = 4095\n",
    "    DAC_MAX = 64\n",
    "    volt_scaled = np.asarray([np.uint16(x*(DAC_MAX/(2*max_voltage))) for x in volt_pos])\n",
    "    #volt_scaled = array.array('i', [np.uint16(x*(DAC_MAX/(2*max_voltage))) for x in volt_pos])\n",
    "\n",
    "    length = len(volt_scaled)\n",
    "    py_buffer = allocate(shape=(length,), dtype=np.int32)\n",
    "    \n",
    "    a = np.zeros((1888))\n",
    "    b = np.full(1888, 800)\n",
    "\n",
    "    py_buffer[::2] = a\n",
    "    py_buffer[1::2] = b\n",
    "\n",
    "    #for i in range(length):\n",
    "     #   py_buffer[i] = volt_scaled[i]\n",
    "        #py_buffer[i] = b[i]\n",
    "        \n",
    "    #print(\"py_buffer physical address {}\".format(hex(py_buffer.physical_address)))\n",
    "    #print(len(volt_scaled))\n",
    "    #print(py_buffer[0:10])\n",
    "#    print(volt_scaled[0:10])\n",
    "    \n",
    "    #print(dir(volt_scaled.buffer_info()[0]))\n",
    "    pointer, read_only_flag = volt_scaled.__array_interface__['data']\n",
    "    #print(hex(pointer))\n",
    "    #print((pointer))\n",
    "    #for i in range(len(volt_scaled)):\n",
    "    #    print(hex(ctypes.addressof(volt_scaled.buffer_info()[0].contents[i])))\n",
    "    #    print(volt_scaled[i].data)\n",
    "    \n",
    "    #print(\"writing to dac...\")\n",
    "    dac.write(py_buffer.physical_address|0x00000003)\n",
    "    \n",
    "    return py_buffer"
   ]
  },
  {
   "cell_type": "markdown",
   "id": "76bc27f7",
   "metadata": {},
   "source": [
    "## Sine Wave ##"
   ]
  },
  {
   "cell_type": "code",
   "execution_count": 6,
   "id": "8fab5ae5",
   "metadata": {},
   "outputs": [],
   "source": [
    "def run_transmit_sine():\n",
    "    length = 31\n",
    "    py_buffer = allocate(shape=(length,), dtype=np.int32)\n",
    "    \n",
    "    a = [32, 48, 55, 60, 64, 60, 55, 48, 32, 20, 15, 10, 5, 10, 15, 20, 32, 48, 55, 60, 64, 60, 55, 48, 32, 20, 15, 10, 5, 10, 15, 20, 32]\n",
    "    \n",
    "    for i in range(length):\n",
    "        py_buffer[i] = a[i]\n",
    "        \n",
    "    #print(\"py_buffer physical address {}\".format(hex(py_buffer.physical_address)))\n",
    "    #print(len(volt_scaled))\n",
    "    #print(py_buffer[0:10])\n",
    "#    print(volt_scaled[0:10])\n",
    "    \n",
    "        #print(\"writing to dac...\")\n",
    "    dac.write(py_buffer.physical_address|0x00000003)\n",
    "    \n",
    "    return py_buffer"
   ]
  },
  {
   "cell_type": "code",
   "execution_count": null,
   "id": "8994b2b1",
   "metadata": {},
   "outputs": [],
   "source": [
    "while True:\n",
    "    run_transmit_sine()   "
   ]
  },
  {
   "cell_type": "code",
   "execution_count": null,
   "id": "9d16969a",
   "metadata": {},
   "outputs": [],
   "source": [
    "i=1\n",
    "while i<10:\n",
    "    run_transmit()\n",
    "    i = i+1"
   ]
  },
  {
   "cell_type": "code",
   "execution_count": null,
   "id": "d3f3124c",
   "metadata": {},
   "outputs": [],
   "source": [
    "while True:\n",
    "    dac.write(2.0)\n",
    "    dac.write(0)"
   ]
  },
  {
   "cell_type": "code",
   "execution_count": null,
   "id": "c5c59600",
   "metadata": {},
   "outputs": [],
   "source": [
    "import matplotlib.pyplot as plt \n",
    "\n",
    "tx = run_transmit_sine()\n",
    "plt.plot(tx)\n",
    "plt.show"
   ]
  },
  {
   "cell_type": "code",
   "execution_count": null,
   "id": "9706eee4",
   "metadata": {},
   "outputs": [],
   "source": [
    "import matplotlib.pyplot as plt \n",
    "\n",
    "tx = run_transmit()\n",
    "plt.plot(tx)\n",
    "plt.show"
   ]
  },
  {
   "cell_type": "markdown",
   "id": "f3be4ed3",
   "metadata": {},
   "source": [
    "# Transmit When Button 0 is Pressed\n",
    "When BTN0 is pressed...\n",
    "    <pre>\n",
    "    1. the RGB LED will turn <span style=\"color:green\">green</span>\n",
    "    2. the Tx Transducer will send a sinewave every <span style=\"color:green\">0.01</span> seconds\n",
    "    </pre>\n",
    "\n",
    "When BTN1 is pressed...\n",
    "    <pre>\n",
    "    1. the RGB LED will turn <span style=\"color:red\">red</span>\n",
    "    2. the Tx Transducer will stop transmitting\n",
    "    </pre>\n",
    "    \n",
    "When BTN2 is pressed...\n",
    "    <pre>\n",
    "    The Tx program will stop\n",
    "    </pre>"
   ]
  },
  {
   "cell_type": "code",
   "execution_count": 32,
   "id": "abf75134",
   "metadata": {},
   "outputs": [],
   "source": [
    "import asyncio\n",
    "import pynq.lib.rgbled as rgbled \n",
    "led4 = rgbled.RGBLED(4)\n",
    "btns = base.btns_gpio"
   ]
  },
  {
   "cell_type": "code",
   "execution_count": 33,
   "id": "0c080618",
   "metadata": {},
   "outputs": [],
   "source": [
    "class Buttons:    \n",
    "    none = 0\n",
    "    BTN0 = 1\n",
    "    BTN1 = 2\n",
    "    BTN2 = 4\n",
    "    \n",
    "noColor = 0x0\n",
    "blue = 0x1\n",
    "green = 0x2\n",
    "red = 0x4\n",
    "    \n",
    "lastBtnPressed = Buttons.none\n",
    "buttonPressed = Buttons.none\n",
    "\n",
    "sleepTime = 0.01\n",
    "\n",
    "transmitting = True"
   ]
  },
  {
   "cell_type": "code",
   "execution_count": 34,
   "id": "ea12a1c8",
   "metadata": {},
   "outputs": [],
   "source": [
    "def lightLed(color):\n",
    "    global lastBtnPressed, buttonPressed\n",
    "    \n",
    "    if (lastBtnPressed != buttonPressed) and (buttonPressed != Buttons.none):\n",
    "        led4.write(color)\n",
    "        lastBtnPressed = buttonPressed"
   ]
  },
  {
   "cell_type": "code",
   "execution_count": 35,
   "id": "70580318",
   "metadata": {},
   "outputs": [],
   "source": [
    "async def checkButtons(_loop):\n",
    "    global lastBtnPressed, buttonPressed, sleepTime\n",
    "    \n",
    "    lastBtnPressed = Buttons.none\n",
    "    buttonPressed = Buttons.none\n",
    "\n",
    "    led4.off()\n",
    "    base.leds[0].on()\n",
    "    base.leds[1].on()\n",
    "\n",
    "    while buttonPressed != Buttons.BTN2:\n",
    "        await asyncio.sleep(sleepTime)\n",
    "        buttonPressed = btns.read()\n",
    "        \n",
    "        match buttonPressed:          \n",
    "            case Buttons.BTN0:\n",
    "                lightLed(green)\n",
    "            case Buttons.BTN1:\n",
    "                lightLed(red)\n",
    "                \n",
    "    led4.off()\n",
    "    base.leds[0].off()\n",
    "    base.leds[1].off()\n",
    "    base.leds[3].off()\n",
    "    transmitting = False\n",
    "    _loop.stop()"
   ]
  },
  {
   "cell_type": "code",
   "execution_count": 36,
   "id": "00629ed3",
   "metadata": {},
   "outputs": [],
   "source": [
    "async def transmit():\n",
    "    global transmitting, lastBtnPressed, sleepTime\n",
    "    \n",
    "    base.leds[3].off()\n",
    "    \n",
    "    while transmitting:\n",
    "        await asyncio.sleep(sleepTime)\n",
    "        \n",
    "        if lastBtnPressed == Buttons.BTN0:\n",
    "            run_transmit_sine()\n",
    "            \n",
    "        if lastBtnPressed == Buttons.BTN1:\n",
    "            dac.write(0)"
   ]
  },
  {
   "cell_type": "code",
   "execution_count": 37,
   "id": "739e81a8",
   "metadata": {},
   "outputs": [
    {
     "name": "stdout",
     "output_type": "stream",
     "text": [
      "Finished.\n",
      "\n"
     ]
    }
   ],
   "source": [
    "loop = asyncio.new_event_loop()\n",
    "loop.create_task(transmit())\n",
    "loop.create_task(checkButtons(loop))\n",
    "loop.run_forever()\n",
    "loop.close()  \n",
    "\n",
    "print(\"Finished.\\n\")"
   ]
  },
  {
   "cell_type": "code",
   "execution_count": null,
   "id": "cdeedac3",
   "metadata": {},
   "outputs": [],
   "source": []
  }
 ],
 "metadata": {
  "kernelspec": {
   "display_name": "Python 3 (ipykernel)",
   "language": "python",
   "name": "python3"
  },
  "language_info": {
   "codemirror_mode": {
    "name": "ipython",
    "version": 3
   },
   "file_extension": ".py",
   "mimetype": "text/x-python",
   "name": "python",
   "nbconvert_exporter": "python",
   "pygments_lexer": "ipython3",
   "version": "3.10.4"
  }
 },
 "nbformat": 4,
 "nbformat_minor": 5
}
