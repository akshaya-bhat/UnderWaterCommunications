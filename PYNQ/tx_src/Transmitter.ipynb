{
 "cells": [
  {
   "cell_type": "code",
   "execution_count": 1,
   "id": "2cd13076",
   "metadata": {},
   "outputs": [
    {
     "data": {
      "application/javascript": [
       "\n",
       "try {\n",
       "require(['notebook/js/codecell'], function(codecell) {\n",
       "  codecell.CodeCell.options_default.highlight_modes[\n",
       "      'magic_text/x-csrc'] = {'reg':[/^%%microblaze/]};\n",
       "  Jupyter.notebook.events.one('kernel_ready.Kernel', function(){\n",
       "      Jupyter.notebook.get_cells().map(function(cell){\n",
       "          if (cell.cell_type == 'code'){ cell.auto_highlight(); } }) ;\n",
       "  });\n",
       "});\n",
       "} catch (e) {};\n"
      ]
     },
     "metadata": {},
     "output_type": "display_data"
    },
    {
     "data": {
      "application/javascript": [
       "\n",
       "try {\n",
       "require(['notebook/js/codecell'], function(codecell) {\n",
       "  codecell.CodeCell.options_default.highlight_modes[\n",
       "      'magic_text/x-csrc'] = {'reg':[/^%%pybind11/]};\n",
       "  Jupyter.notebook.events.one('kernel_ready.Kernel', function(){\n",
       "      Jupyter.notebook.get_cells().map(function(cell){\n",
       "          if (cell.cell_type == 'code'){ cell.auto_highlight(); } }) ;\n",
       "  });\n",
       "});\n",
       "} catch (e) {};\n"
      ]
     },
     "metadata": {},
     "output_type": "display_data"
    }
   ],
   "source": [
    "from pynq.overlays.base import BaseOverlay\n",
    "base = BaseOverlay(\"base.bit\")"
   ]
  },
  {
   "cell_type": "code",
   "execution_count": 2,
   "id": "750de22b",
   "metadata": {},
   "outputs": [],
   "source": [
    "from pynq.lib import Pmod_ADC, Pmod_DAC\n",
    "import time\n",
    "import ctypes\n",
    "import numpy as np\n",
    "import array\n",
    "from pynq import allocate\n",
    "import numpy as np \n"
   ]
  },
  {
   "cell_type": "code",
   "execution_count": 3,
   "id": "c7836f9e",
   "metadata": {},
   "outputs": [],
   "source": [
    "dac = Pmod_DAC(base.PMODB)"
   ]
  },
  {
   "cell_type": "code",
   "execution_count": 4,
   "id": "abe02867",
   "metadata": {},
   "outputs": [],
   "source": [
    "def run_transmit():\n",
    "    # Load transmit data from file\n",
    "    with open(\"/home/xilinx/pynq/tx_out.dat\", mode='rb') as file:\n",
    "        file_content = file.read()\n",
    "    float_strs = file_content.split(b\" \")\n",
    "    \n",
    "    volt_floats = [float(x) for x in float_strs if x != b'']\n",
    "    \n",
    "    max_voltage = max([abs(x) for x in volt_floats])\n",
    "    \n",
    "    # shift the voltages so all are positive and scale to 12 bit uint (store as 16 bit uint)\n",
    "    volt_pos = [x + max_voltage for x in volt_floats]\n",
    "    #DAC_MAX = 4095\n",
    "    DAC_MAX = 1638\n",
    "    volt_scaled = np.asarray([np.uint16(x*(DAC_MAX/(2*max_voltage))) for x in volt_pos])\n",
    "    #volt_scaled = array.array('i', [np.uint16(x*(DAC_MAX/(2*max_voltage))) for x in volt_pos])\n",
    "\n",
    "    length = len(volt_scaled)\n",
    "    py_buffer = allocate(shape=(length,), dtype=np.int32)\n",
    "    \n",
    "    for i in range(length):\n",
    "        py_buffer[i] = volt_scaled[i]\n",
    "        \n",
    "    #print(\"py_buffer physical address {}\".format(hex(py_buffer.physical_address)))\n",
    "    #print(py_buffer[0:10])\n",
    "    \n",
    "    #print(dir(volt_scaled.buffer_info()[0]))\n",
    "    #pointer, read_only_flag = volt_scaled.__array_interface__['data']\n",
    "    #print(hex(pointer))\n",
    "    #print((pointer))\n",
    "    #for i in range(len(volt_scaled)):\n",
    "    #    print(hex(ctypes.addressof(volt_scaled.buffer_info()[0].contents[i])))\n",
    "    #    print(volt_scaled[i].data)\n",
    "    \n",
    "    #print(\"writing to dac...\")\n",
    "    #while True:\n",
    "    \n",
    "    i = 1\n",
    "#    while i < 50:\n",
    "    while True:\n",
    "        dac.write(py_buffer.physical_address|0x00000003)\n",
    "        i = i+1\n",
    "    \n",
    "    #return py_buffer\n"
   ]
  },
  {
   "cell_type": "code",
   "execution_count": 5,
   "id": "8ac12397",
   "metadata": {},
   "outputs": [
    {
     "ename": "KeyboardInterrupt",
     "evalue": "",
     "output_type": "error",
     "traceback": [
      "\u001b[0;31m---------------------------------------------------------------------------\u001b[0m",
      "\u001b[0;31mKeyboardInterrupt\u001b[0m                         Traceback (most recent call last)",
      "Input \u001b[0;32mIn [5]\u001b[0m, in \u001b[0;36m<cell line: 1>\u001b[0;34m()\u001b[0m\n\u001b[0;32m----> 1\u001b[0m \u001b[43mrun_transmit\u001b[49m\u001b[43m(\u001b[49m\u001b[43m)\u001b[49m\n",
      "Input \u001b[0;32mIn [4]\u001b[0m, in \u001b[0;36mrun_transmit\u001b[0;34m()\u001b[0m\n\u001b[1;32m     39\u001b[0m \u001b[38;5;66;03m#    while i < 50:\u001b[39;00m\n\u001b[1;32m     40\u001b[0m     \u001b[38;5;28;01mwhile\u001b[39;00m \u001b[38;5;28;01mTrue\u001b[39;00m:\n\u001b[0;32m---> 41\u001b[0m         \u001b[43mdac\u001b[49m\u001b[38;5;241;43m.\u001b[39;49m\u001b[43mwrite\u001b[49m\u001b[43m(\u001b[49m\u001b[43mpy_buffer\u001b[49m\u001b[38;5;241;43m.\u001b[39;49m\u001b[43mphysical_address\u001b[49m\u001b[38;5;241;43m|\u001b[39;49m\u001b[38;5;241;43m0x00000003\u001b[39;49m\u001b[43m)\u001b[49m\n\u001b[1;32m     42\u001b[0m         i \u001b[38;5;241m=\u001b[39m i\u001b[38;5;241m+\u001b[39m\u001b[38;5;241m1\u001b[39m\n",
      "File \u001b[0;32m/usr/local/share/pynq-venv/lib/python3.10/site-packages/pynq/lib/pmod/pmod_dac.py:74\u001b[0m, in \u001b[0;36mPmod_DAC.write\u001b[0;34m(self, value)\u001b[0m\n\u001b[1;32m     71\u001b[0m cmd \u001b[38;5;241m=\u001b[39m value\n\u001b[1;32m     72\u001b[0m \u001b[38;5;66;03m#cmd = 4293918723\u001b[39;00m\n\u001b[1;32m     73\u001b[0m \u001b[38;5;66;03m#print(cmd)\u001b[39;00m\n\u001b[0;32m---> 74\u001b[0m \u001b[38;5;28;43mself\u001b[39;49m\u001b[38;5;241;43m.\u001b[39;49m\u001b[43mmicroblaze\u001b[49m\u001b[38;5;241;43m.\u001b[39;49m\u001b[43mwrite_blocking_command\u001b[49m\u001b[43m(\u001b[49m\u001b[43mcmd\u001b[49m\u001b[43m)\u001b[49m\n",
      "File \u001b[0;32m/usr/local/share/pynq-venv/lib/python3.10/site-packages/pynq/lib/pmod/pmod.py:125\u001b[0m, in \u001b[0;36mPmod.write_blocking_command\u001b[0;34m(self, command)\u001b[0m\n\u001b[1;32m    109\u001b[0m \u001b[38;5;124;03m\"\"\"This method writes a blocking command to the Microblaze.\u001b[39;00m\n\u001b[1;32m    110\u001b[0m \n\u001b[1;32m    111\u001b[0m \u001b[38;5;124;03mThe program waits in the loop until the command is cleared by the\u001b[39;00m\n\u001b[0;32m   (...)\u001b[0m\n\u001b[1;32m    122\u001b[0m \n\u001b[1;32m    123\u001b[0m \u001b[38;5;124;03m\"\"\"\u001b[39;00m\n\u001b[1;32m    124\u001b[0m \u001b[38;5;28mself\u001b[39m\u001b[38;5;241m.\u001b[39mwrite(MAILBOX_OFFSET \u001b[38;5;241m+\u001b[39m MAILBOX_PY2IOP_CMD_OFFSET, command)\n\u001b[0;32m--> 125\u001b[0m \u001b[38;5;28;01mwhile\u001b[39;00m \u001b[38;5;28;43mself\u001b[39;49m\u001b[38;5;241;43m.\u001b[39;49m\u001b[43mread\u001b[49m\u001b[43m(\u001b[49m\u001b[43mMAILBOX_OFFSET\u001b[49m\u001b[43m \u001b[49m\u001b[38;5;241;43m+\u001b[39;49m\u001b[43m \u001b[49m\u001b[43mMAILBOX_PY2IOP_CMD_OFFSET\u001b[49m\u001b[43m)\u001b[49m \u001b[38;5;241m!=\u001b[39m \u001b[38;5;241m0\u001b[39m:\n\u001b[1;32m    126\u001b[0m     \u001b[38;5;28;01mpass\u001b[39;00m\n",
      "File \u001b[0;32m/usr/local/share/pynq-venv/lib/python3.10/site-packages/pynq/lib/pynqmicroblaze/pynqmicroblaze.py:273\u001b[0m, in \u001b[0;36mPynqMicroblaze.read\u001b[0;34m(self, offset, length)\u001b[0m\n\u001b[1;32m    257\u001b[0m \u001b[38;5;124;03m\"\"\"This method reads data from the shared memory of Microblaze.\u001b[39;00m\n\u001b[1;32m    258\u001b[0m \n\u001b[1;32m    259\u001b[0m \u001b[38;5;124;03mParameters\u001b[39;00m\n\u001b[0;32m   (...)\u001b[0m\n\u001b[1;32m    270\u001b[0m \n\u001b[1;32m    271\u001b[0m \u001b[38;5;124;03m\"\"\"\u001b[39;00m\n\u001b[1;32m    272\u001b[0m \u001b[38;5;28;01mif\u001b[39;00m length \u001b[38;5;241m==\u001b[39m \u001b[38;5;241m1\u001b[39m:\n\u001b[0;32m--> 273\u001b[0m     \u001b[38;5;28;01mreturn\u001b[39;00m \u001b[38;5;28;43mself\u001b[39;49m\u001b[38;5;241;43m.\u001b[39;49m\u001b[43mmmio\u001b[49m\u001b[38;5;241;43m.\u001b[39;49m\u001b[43mread\u001b[49m\u001b[43m(\u001b[49m\u001b[43moffset\u001b[49m\u001b[43m)\u001b[49m\n\u001b[1;32m    274\u001b[0m \u001b[38;5;28;01melif\u001b[39;00m length \u001b[38;5;241m>\u001b[39m \u001b[38;5;241m1\u001b[39m:\n\u001b[1;32m    275\u001b[0m     \u001b[38;5;28;01mreturn\u001b[39;00m [\u001b[38;5;28mself\u001b[39m\u001b[38;5;241m.\u001b[39mmmio\u001b[38;5;241m.\u001b[39mread(offset \u001b[38;5;241m+\u001b[39m \u001b[38;5;241m4\u001b[39m \u001b[38;5;241m*\u001b[39m i) \u001b[38;5;28;01mfor\u001b[39;00m i \u001b[38;5;129;01min\u001b[39;00m \u001b[38;5;28mrange\u001b[39m(length)]\n",
      "File \u001b[0;32m/usr/local/share/pynq-venv/lib/python3.10/site-packages/pynq/mmio.py:117\u001b[0m, in \u001b[0;36mMMIO.read\u001b[0;34m(self, offset, length, word_order)\u001b[0m\n\u001b[1;32m    115\u001b[0m     \u001b[38;5;28;01mraise\u001b[39;00m \u001b[38;5;167;01mValueError\u001b[39;00m(\u001b[38;5;124m\"\u001b[39m\u001b[38;5;124mMMIO only supports big and little endian.\u001b[39m\u001b[38;5;124m\"\u001b[39m)\n\u001b[1;32m    116\u001b[0m idx \u001b[38;5;241m=\u001b[39m offset \u001b[38;5;241m>>\u001b[39m \u001b[38;5;241m2\u001b[39m\n\u001b[0;32m--> 117\u001b[0m \u001b[38;5;28;01mif\u001b[39;00m offset \u001b[38;5;241m%\u001b[39m \u001b[38;5;241m4\u001b[39m:\n\u001b[1;32m    118\u001b[0m     \u001b[38;5;28;01mraise\u001b[39;00m \u001b[38;5;167;01mMemoryError\u001b[39;00m(\u001b[38;5;124m\"\u001b[39m\u001b[38;5;124mUnaligned read: offset must be multiple of 4.\u001b[39m\u001b[38;5;124m\"\u001b[39m)\n\u001b[1;32m    120\u001b[0m \u001b[38;5;66;03m# Read data out\u001b[39;00m\n",
      "\u001b[0;31mKeyboardInterrupt\u001b[0m: "
     ]
    }
   ],
   "source": [
    "run_transmit()\n",
    "   "
   ]
  },
  {
   "cell_type": "code",
   "execution_count": null,
   "id": "4d365ceb",
   "metadata": {},
   "outputs": [],
   "source": [
    "## Square Wave ##"
   ]
  },
  {
   "cell_type": "code",
   "execution_count": null,
   "id": "05600a4c",
   "metadata": {},
   "outputs": [],
   "source": [
    "def run_transmit_sq():\n",
    "    # Load transmit data from file\n",
    "    with open(\"/home/xilinx/pynq/tx_out.dat\", mode='rb') as file:\n",
    "        file_content = file.read()\n",
    "    float_strs = file_content.split(b\" \")\n",
    "    \n",
    "    volt_floats = [float(x) for x in float_strs if x != b'']\n",
    "    \n",
    "    max_voltage = max([abs(x) for x in volt_floats])\n",
    "    \n",
    "    # shift the voltages so all are positive and scale to 12 bit uint (store as 16 bit uint)\n",
    "    volt_pos = [x + max_voltage for x in volt_floats]\n",
    "    #DAC_MAX = 4095\n",
    "    DAC_MAX = 64\n",
    "    volt_scaled = np.asarray([np.uint16(x*(DAC_MAX/(2*max_voltage))) for x in volt_pos])\n",
    "    #volt_scaled = array.array('i', [np.uint16(x*(DAC_MAX/(2*max_voltage))) for x in volt_pos])\n",
    "\n",
    "    length = len(volt_scaled)\n",
    "    py_buffer = allocate(shape=(length,), dtype=np.int32)\n",
    "    \n",
    "    a = np.zeros((1888))\n",
    "    b = np.full(1888, 800)\n",
    "\n",
    "    py_buffer[::2] = a\n",
    "    py_buffer[1::2] = b\n",
    "\n",
    "    #for i in range(length):\n",
    "     #   py_buffer[i] = volt_scaled[i]\n",
    "        #py_buffer[i] = b[i]\n",
    "        \n",
    "    #print(\"py_buffer physical address {}\".format(hex(py_buffer.physical_address)))\n",
    "    #print(len(volt_scaled))\n",
    "    #print(py_buffer[0:10])\n",
    "#    print(volt_scaled[0:10])\n",
    "    \n",
    "    #print(dir(volt_scaled.buffer_info()[0]))\n",
    "    pointer, read_only_flag = volt_scaled.__array_interface__['data']\n",
    "    #print(hex(pointer))\n",
    "    #print((pointer))\n",
    "    #for i in range(len(volt_scaled)):\n",
    "    #    print(hex(ctypes.addressof(volt_scaled.buffer_info()[0].contents[i])))\n",
    "    #    print(volt_scaled[i].data)\n",
    "    \n",
    "    #print(\"writing to dac...\")\n",
    "    dac.write(py_buffer.physical_address|0x00000003)\n",
    "    \n",
    "    return py_buffer"
   ]
  },
  {
   "cell_type": "code",
   "execution_count": null,
   "id": "1f3acb34",
   "metadata": {},
   "outputs": [],
   "source": [
    "## Sine Wave ##"
   ]
  },
  {
   "cell_type": "code",
   "execution_count": null,
   "id": "8fab5ae5",
   "metadata": {},
   "outputs": [],
   "source": [
    "def run_transmit_sine():\n",
    "    length = 31\n",
    "    py_buffer = allocate(shape=(length,), dtype=np.int32)\n",
    "    \n",
    "    a = [32, 48, 55, 60, 64, 60, 55, 48, 32, 20, 15, 10, 5, 10, 15, 20, 32, 48, 55, 60, 64, 60, 55, 48, 32, 20, 15, 10, 5, 10, 15, 20, 32]\n",
    "    \n",
    "    for i in range(length):\n",
    "        py_buffer[i] = a[i]\n",
    "        \n",
    "    #print(\"py_buffer physical address {}\".format(hex(py_buffer.physical_address)))\n",
    "    #print(len(volt_scaled))\n",
    "    #print(py_buffer[0:10])\n",
    "#    print(volt_scaled[0:10])\n",
    "    \n",
    "        #print(\"writing to dac...\")\n",
    "    dac.write(py_buffer.physical_address|0x00000003)\n",
    "    \n",
    "    return py_buffer"
   ]
  },
  {
   "cell_type": "code",
   "execution_count": null,
   "id": "8994b2b1",
   "metadata": {},
   "outputs": [],
   "source": [
    "\n",
    "while True:\n",
    "    run_transmit_sine()\n",
    "   "
   ]
  },
  {
   "cell_type": "code",
   "execution_count": null,
   "id": "9d16969a",
   "metadata": {},
   "outputs": [],
   "source": [
    "i=1\n",
    "while i<10:\n",
    "    run_transmit()\n",
    "    i = i+1"
   ]
  },
  {
   "cell_type": "code",
   "execution_count": null,
   "id": "d3f3124c",
   "metadata": {},
   "outputs": [],
   "source": [
    "while True:\n",
    "    dac.write(2.0)\n",
    "    dac.write(0)"
   ]
  },
  {
   "cell_type": "code",
   "execution_count": null,
   "id": "c5c59600",
   "metadata": {},
   "outputs": [],
   "source": [
    "import matplotlib.pyplot as plt \n",
    "\n",
    "tx = run_transmit_sine()\n",
    "plt.plot(tx)\n",
    "plt.show"
   ]
  },
  {
   "cell_type": "code",
   "execution_count": null,
   "id": "9706eee4",
   "metadata": {},
   "outputs": [],
   "source": [
    "import matplotlib.pyplot as plt \n",
    "\n",
    "tx = run_transmit()\n",
    "plt.plot(tx)\n",
    "plt.show"
   ]
  },
  {
   "cell_type": "code",
   "execution_count": null,
   "id": "5b0eef39",
   "metadata": {},
   "outputs": [],
   "source": []
  }
 ],
 "metadata": {
  "kernelspec": {
   "display_name": "Python 3 (ipykernel)",
   "language": "python",
   "name": "python3"
  },
  "language_info": {
   "codemirror_mode": {
    "name": "ipython",
    "version": 3
   },
   "file_extension": ".py",
   "mimetype": "text/x-python",
   "name": "python",
   "nbconvert_exporter": "python",
   "pygments_lexer": "ipython3",
   "version": "3.10.4"
  }
 },
 "nbformat": 4,
 "nbformat_minor": 5
}
