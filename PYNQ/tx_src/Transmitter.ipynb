{
 "cells": [
  {
   "cell_type": "code",
   "execution_count": 2,
   "id": "2cd13076",
   "metadata": {},
   "outputs": [],
   "source": [
    "from pynq.overlays.base import BaseOverlay\n",
    "base = BaseOverlay(\"base.bit\")"
   ]
  },
  {
   "cell_type": "code",
   "execution_count": 3,
   "id": "750de22b",
   "metadata": {},
   "outputs": [],
   "source": [
    "from pynq.lib import Pmod_ADC, Pmod_DAC\n",
    "import time\n",
    "import ctypes\n",
    "import numpy as np\n",
    "import array\n",
    "from pynq import allocate\n",
    "import numpy as np "
   ]
  },
  {
   "cell_type": "code",
   "execution_count": 4,
   "id": "c7836f9e",
   "metadata": {},
   "outputs": [],
   "source": [
    "dac = Pmod_DAC(base.PMODB)"
   ]
  },
  {
   "cell_type": "code",
   "execution_count": 5,
   "id": "abe02867",
   "metadata": {},
   "outputs": [],
   "source": [
    "def run_transmit():\n",
    "    # Load transmit data from file\n",
    "    with open(\"/home/xilinx/pynq/tx_out.dat\", mode='rb') as file:\n",
    "        file_content = file.read()\n",
    "    float_strs = file_content.split(b\" \")\n",
    "    \n",
    "    volt_floats = [float(x) for x in float_strs if x != b'']\n",
    "    \n",
    "    max_voltage = max([abs(x) for x in volt_floats])\n",
    "    \n",
    "    # shift the voltages so all are positive and scale to 12 bit uint (store as 16 bit uint)\n",
    "    volt_pos = [x + max_voltage for x in volt_floats]\n",
    "    #DAC_MAX = 4095\n",
    "    DAC_MAX = 1638\n",
    "    volt_scaled = np.asarray([np.uint16(x*(DAC_MAX/(2*max_voltage))) for x in volt_pos])\n",
    "    #volt_scaled = array.array('i', [np.uint16(x*(DAC_MAX/(2*max_voltage))) for x in volt_pos])\n",
    "\n",
    "    length = len(volt_scaled)\n",
    "    py_buffer = allocate(shape=(length,), dtype=np.int32)\n",
    "    \n",
    "    for i in range(length):\n",
    "        py_buffer[i] = volt_scaled[i]\n",
    "        \n",
    "    #print(\"py_buffer physical address {}\".format(hex(py_buffer.physical_address)))\n",
    "    #print(py_buffer[0:10])\n",
    "    \n",
    "    #print(dir(volt_scaled.buffer_info()[0]))\n",
    "    #pointer, read_only_flag = volt_scaled.__array_interface__['data']\n",
    "    #print(hex(pointer))\n",
    "    #print((pointer))\n",
    "    #for i in range(len(volt_scaled)):\n",
    "    #    print(hex(ctypes.addressof(volt_scaled.buffer_info()[0].contents[i])))\n",
    "    #    print(volt_scaled[i].data)\n",
    "    \n",
    "    #print(\"writing to dac...\")\n",
    "    #while True:\n",
    "    \n",
    "    i = 1\n",
    "#    while i < 50:\n",
    "    while True:\n",
    "        dac.write(py_buffer.physical_address|0x00000003)\n",
    "        i = i+1\n",
    "    \n",
    "    #return py_buffer\n"
   ]
  },
  {
   "cell_type": "code",
   "execution_count": 6,
   "id": "8ac12397",
   "metadata": {},
   "outputs": [
    {
     "ename": "KeyboardInterrupt",
     "evalue": "",
     "output_type": "error",
     "traceback": [
      "\u001b[0;31m---------------------------------------------------------------------------\u001b[0m",
      "\u001b[0;31mKeyboardInterrupt\u001b[0m                         Traceback (most recent call last)",
      "Input \u001b[0;32mIn [6]\u001b[0m, in \u001b[0;36m<cell line: 1>\u001b[0;34m()\u001b[0m\n\u001b[0;32m----> 1\u001b[0m \u001b[43mrun_transmit\u001b[49m\u001b[43m(\u001b[49m\u001b[43m)\u001b[49m\n",
      "Input \u001b[0;32mIn [5]\u001b[0m, in \u001b[0;36mrun_transmit\u001b[0;34m()\u001b[0m\n\u001b[1;32m     39\u001b[0m \u001b[38;5;66;03m#    while i < 50:\u001b[39;00m\n\u001b[1;32m     40\u001b[0m     \u001b[38;5;28;01mwhile\u001b[39;00m \u001b[38;5;28;01mTrue\u001b[39;00m:\n\u001b[0;32m---> 41\u001b[0m         \u001b[43mdac\u001b[49m\u001b[38;5;241;43m.\u001b[39;49m\u001b[43mwrite\u001b[49m\u001b[43m(\u001b[49m\u001b[43mpy_buffer\u001b[49m\u001b[38;5;241;43m.\u001b[39;49m\u001b[43mphysical_address\u001b[49m\u001b[38;5;241;43m|\u001b[39;49m\u001b[38;5;241;43m0x00000003\u001b[39;49m\u001b[43m)\u001b[49m\n\u001b[1;32m     42\u001b[0m         i \u001b[38;5;241m=\u001b[39m i\u001b[38;5;241m+\u001b[39m\u001b[38;5;241m1\u001b[39m\n",
      "File \u001b[0;32m/usr/local/share/pynq-venv/lib/python3.10/site-packages/pynq/lib/pmod/pmod_dac.py:74\u001b[0m, in \u001b[0;36mPmod_DAC.write\u001b[0;34m(self, value)\u001b[0m\n\u001b[1;32m     71\u001b[0m cmd \u001b[38;5;241m=\u001b[39m value\n\u001b[1;32m     72\u001b[0m \u001b[38;5;66;03m#cmd = 4293918723\u001b[39;00m\n\u001b[1;32m     73\u001b[0m \u001b[38;5;66;03m#print(cmd)\u001b[39;00m\n\u001b[0;32m---> 74\u001b[0m \u001b[38;5;28;43mself\u001b[39;49m\u001b[38;5;241;43m.\u001b[39;49m\u001b[43mmicroblaze\u001b[49m\u001b[38;5;241;43m.\u001b[39;49m\u001b[43mwrite_blocking_command\u001b[49m\u001b[43m(\u001b[49m\u001b[43mcmd\u001b[49m\u001b[43m)\u001b[49m\n",
      "File \u001b[0;32m/usr/local/share/pynq-venv/lib/python3.10/site-packages/pynq/lib/pmod/pmod.py:124\u001b[0m, in \u001b[0;36mPmod.write_blocking_command\u001b[0;34m(self, command)\u001b[0m\n\u001b[1;32m    108\u001b[0m \u001b[38;5;28;01mdef\u001b[39;00m \u001b[38;5;21mwrite_blocking_command\u001b[39m(\u001b[38;5;28mself\u001b[39m, command):\n\u001b[1;32m    109\u001b[0m     \u001b[38;5;124;03m\"\"\"This method writes a blocking command to the Microblaze.\u001b[39;00m\n\u001b[1;32m    110\u001b[0m \n\u001b[1;32m    111\u001b[0m \u001b[38;5;124;03m    The program waits in the loop until the command is cleared by the\u001b[39;00m\n\u001b[0;32m   (...)\u001b[0m\n\u001b[1;32m    122\u001b[0m \n\u001b[1;32m    123\u001b[0m \u001b[38;5;124;03m    \"\"\"\u001b[39;00m\n\u001b[0;32m--> 124\u001b[0m     \u001b[38;5;28;43mself\u001b[39;49m\u001b[38;5;241;43m.\u001b[39;49m\u001b[43mwrite\u001b[49m\u001b[43m(\u001b[49m\u001b[43mMAILBOX_OFFSET\u001b[49m\u001b[43m \u001b[49m\u001b[38;5;241;43m+\u001b[39;49m\u001b[43m \u001b[49m\u001b[43mMAILBOX_PY2IOP_CMD_OFFSET\u001b[49m\u001b[43m,\u001b[49m\u001b[43m \u001b[49m\u001b[43mcommand\u001b[49m\u001b[43m)\u001b[49m\n\u001b[1;32m    125\u001b[0m     \u001b[38;5;28;01mwhile\u001b[39;00m \u001b[38;5;28mself\u001b[39m\u001b[38;5;241m.\u001b[39mread(MAILBOX_OFFSET \u001b[38;5;241m+\u001b[39m MAILBOX_PY2IOP_CMD_OFFSET) \u001b[38;5;241m!=\u001b[39m \u001b[38;5;241m0\u001b[39m:\n\u001b[1;32m    126\u001b[0m         \u001b[38;5;28;01mpass\u001b[39;00m\n",
      "File \u001b[0;32m/usr/local/share/pynq-venv/lib/python3.10/site-packages/pynq/lib/pynqmicroblaze/pynqmicroblaze.py:249\u001b[0m, in \u001b[0;36mPynqMicroblaze.write\u001b[0;34m(self, offset, data)\u001b[0m\n\u001b[1;32m    234\u001b[0m \u001b[38;5;124;03m\"\"\"This method write data into the shared memory of the Microblaze.\u001b[39;00m\n\u001b[1;32m    235\u001b[0m \n\u001b[1;32m    236\u001b[0m \u001b[38;5;124;03mParameters\u001b[39;00m\n\u001b[0;32m   (...)\u001b[0m\n\u001b[1;32m    246\u001b[0m \n\u001b[1;32m    247\u001b[0m \u001b[38;5;124;03m\"\"\"\u001b[39;00m\n\u001b[1;32m    248\u001b[0m \u001b[38;5;28;01mif\u001b[39;00m \u001b[38;5;28mtype\u001b[39m(data) \u001b[38;5;129;01mis\u001b[39;00m \u001b[38;5;28mint\u001b[39m:\n\u001b[0;32m--> 249\u001b[0m     \u001b[38;5;28;43mself\u001b[39;49m\u001b[38;5;241;43m.\u001b[39;49m\u001b[43mmmio\u001b[49m\u001b[38;5;241;43m.\u001b[39;49m\u001b[43mwrite\u001b[49m\u001b[43m(\u001b[49m\u001b[43moffset\u001b[49m\u001b[43m,\u001b[49m\u001b[43m \u001b[49m\u001b[43mdata\u001b[49m\u001b[43m)\u001b[49m\n\u001b[1;32m    250\u001b[0m \u001b[38;5;28;01melif\u001b[39;00m \u001b[38;5;28mtype\u001b[39m(data) \u001b[38;5;129;01mis\u001b[39;00m \u001b[38;5;28mlist\u001b[39m:\n\u001b[1;32m    251\u001b[0m     \u001b[38;5;28;01mfor\u001b[39;00m i, word \u001b[38;5;129;01min\u001b[39;00m \u001b[38;5;28menumerate\u001b[39m(data):\n",
      "\u001b[0;31mKeyboardInterrupt\u001b[0m: "
     ]
    }
   ],
   "source": [
    "run_transmit()"
   ]
  },
  {
   "cell_type": "markdown",
   "id": "977f015d",
   "metadata": {},
   "source": [
    "## Square Wave"
   ]
  },
  {
   "cell_type": "code",
   "execution_count": 7,
   "id": "05600a4c",
   "metadata": {},
   "outputs": [],
   "source": [
    "def run_transmit_sq():\n",
    "    # Load transmit data from file\n",
    "    with open(\"/home/xilinx/pynq/tx_out.dat\", mode='rb') as file:\n",
    "        file_content = file.read()\n",
    "    float_strs = file_content.split(b\" \")\n",
    "    \n",
    "    volt_floats = [float(x) for x in float_strs if x != b'']\n",
    "    \n",
    "    max_voltage = max([abs(x) for x in volt_floats])\n",
    "    \n",
    "    # shift the voltages so all are positive and scale to 12 bit uint (store as 16 bit uint)\n",
    "    volt_pos = [x + max_voltage for x in volt_floats]\n",
    "    #DAC_MAX = 4095\n",
    "    DAC_MAX = 64\n",
    "    volt_scaled = np.asarray([np.uint16(x*(DAC_MAX/(2*max_voltage))) for x in volt_pos])\n",
    "    #volt_scaled = array.array('i', [np.uint16(x*(DAC_MAX/(2*max_voltage))) for x in volt_pos])\n",
    "\n",
    "    length = len(volt_scaled)\n",
    "    py_buffer = allocate(shape=(length,), dtype=np.int32)\n",
    "    \n",
    "    a = np.zeros((1888))\n",
    "    b = np.full(1888, 800)\n",
    "\n",
    "    py_buffer[::2] = a\n",
    "    py_buffer[1::2] = b\n",
    "\n",
    "    #for i in range(length):\n",
    "     #   py_buffer[i] = volt_scaled[i]\n",
    "        #py_buffer[i] = b[i]\n",
    "        \n",
    "    #print(\"py_buffer physical address {}\".format(hex(py_buffer.physical_address)))\n",
    "    #print(len(volt_scaled))\n",
    "    #print(py_buffer[0:10])\n",
    "#    print(volt_scaled[0:10])\n",
    "    \n",
    "    #print(dir(volt_scaled.buffer_info()[0]))\n",
    "    pointer, read_only_flag = volt_scaled.__array_interface__['data']\n",
    "    #print(hex(pointer))\n",
    "    #print((pointer))\n",
    "    #for i in range(len(volt_scaled)):\n",
    "    #    print(hex(ctypes.addressof(volt_scaled.buffer_info()[0].contents[i])))\n",
    "    #    print(volt_scaled[i].data)\n",
    "    \n",
    "    #print(\"writing to dac...\")\n",
    "    dac.write(py_buffer.physical_address|0x00000003)\n",
    "    \n",
    "    return py_buffer"
   ]
  },
  {
   "cell_type": "markdown",
   "id": "76bc27f7",
   "metadata": {},
   "source": [
    "## Sine Wave ##"
   ]
  },
  {
   "cell_type": "code",
   "execution_count": 8,
   "id": "8fab5ae5",
   "metadata": {},
   "outputs": [],
   "source": [
    "def run_transmit_sine():\n",
    "    length = 31\n",
    "    py_buffer = allocate(shape=(length,), dtype=np.int32)\n",
    "    \n",
    "    a = [32, 48, 55, 60, 64, 60, 55, 48, 32, 20, 15, 10, 5, 10, 15, 20, 32, 48, 55, 60, 64, 60, 55, 48, 32, 20, 15, 10, 5, 10, 15, 20, 32]\n",
    "    \n",
    "    for i in range(length):\n",
    "        py_buffer[i] = a[i]\n",
    "        \n",
    "    #print(\"py_buffer physical address {}\".format(hex(py_buffer.physical_address)))\n",
    "    #print(len(volt_scaled))\n",
    "    #print(py_buffer[0:10])\n",
    "#    print(volt_scaled[0:10])\n",
    "    \n",
    "        #print(\"writing to dac...\")\n",
    "    dac.write(py_buffer.physical_address|0x00000003)\n",
    "    \n",
    "    return py_buffer"
   ]
  },
  {
   "cell_type": "code",
   "execution_count": 9,
   "id": "8994b2b1",
   "metadata": {},
   "outputs": [
    {
     "ename": "KeyboardInterrupt",
     "evalue": "",
     "output_type": "error",
     "traceback": [
      "\u001b[0;31m---------------------------------------------------------------------------\u001b[0m",
      "\u001b[0;31mKeyboardInterrupt\u001b[0m                         Traceback (most recent call last)",
      "Input \u001b[0;32mIn [9]\u001b[0m, in \u001b[0;36m<cell line: 1>\u001b[0;34m()\u001b[0m\n\u001b[1;32m      1\u001b[0m \u001b[38;5;28;01mwhile\u001b[39;00m \u001b[38;5;28;01mTrue\u001b[39;00m:\n\u001b[0;32m----> 2\u001b[0m     \u001b[43mrun_transmit_sine\u001b[49m\u001b[43m(\u001b[49m\u001b[43m)\u001b[49m\n",
      "Input \u001b[0;32mIn [8]\u001b[0m, in \u001b[0;36mrun_transmit_sine\u001b[0;34m()\u001b[0m\n\u001b[1;32m      1\u001b[0m \u001b[38;5;28;01mdef\u001b[39;00m \u001b[38;5;21mrun_transmit_sine\u001b[39m():\n\u001b[1;32m      2\u001b[0m     length \u001b[38;5;241m=\u001b[39m \u001b[38;5;241m31\u001b[39m\n\u001b[0;32m----> 3\u001b[0m     py_buffer \u001b[38;5;241m=\u001b[39m \u001b[43mallocate\u001b[49m\u001b[43m(\u001b[49m\u001b[43mshape\u001b[49m\u001b[38;5;241;43m=\u001b[39;49m\u001b[43m(\u001b[49m\u001b[43mlength\u001b[49m\u001b[43m,\u001b[49m\u001b[43m)\u001b[49m\u001b[43m,\u001b[49m\u001b[43m \u001b[49m\u001b[43mdtype\u001b[49m\u001b[38;5;241;43m=\u001b[39;49m\u001b[43mnp\u001b[49m\u001b[38;5;241;43m.\u001b[39;49m\u001b[43mint32\u001b[49m\u001b[43m)\u001b[49m\n\u001b[1;32m      5\u001b[0m     a \u001b[38;5;241m=\u001b[39m [\u001b[38;5;241m32\u001b[39m, \u001b[38;5;241m48\u001b[39m, \u001b[38;5;241m55\u001b[39m, \u001b[38;5;241m60\u001b[39m, \u001b[38;5;241m64\u001b[39m, \u001b[38;5;241m60\u001b[39m, \u001b[38;5;241m55\u001b[39m, \u001b[38;5;241m48\u001b[39m, \u001b[38;5;241m32\u001b[39m, \u001b[38;5;241m20\u001b[39m, \u001b[38;5;241m15\u001b[39m, \u001b[38;5;241m10\u001b[39m, \u001b[38;5;241m5\u001b[39m, \u001b[38;5;241m10\u001b[39m, \u001b[38;5;241m15\u001b[39m, \u001b[38;5;241m20\u001b[39m, \u001b[38;5;241m32\u001b[39m, \u001b[38;5;241m48\u001b[39m, \u001b[38;5;241m55\u001b[39m, \u001b[38;5;241m60\u001b[39m, \u001b[38;5;241m64\u001b[39m, \u001b[38;5;241m60\u001b[39m, \u001b[38;5;241m55\u001b[39m, \u001b[38;5;241m48\u001b[39m, \u001b[38;5;241m32\u001b[39m, \u001b[38;5;241m20\u001b[39m, \u001b[38;5;241m15\u001b[39m, \u001b[38;5;241m10\u001b[39m, \u001b[38;5;241m5\u001b[39m, \u001b[38;5;241m10\u001b[39m, \u001b[38;5;241m15\u001b[39m, \u001b[38;5;241m20\u001b[39m, \u001b[38;5;241m32\u001b[39m]\n\u001b[1;32m      7\u001b[0m     \u001b[38;5;28;01mfor\u001b[39;00m i \u001b[38;5;129;01min\u001b[39;00m \u001b[38;5;28mrange\u001b[39m(length):\n",
      "File \u001b[0;32m/usr/local/share/pynq-venv/lib/python3.10/site-packages/pynq/buffer.py:158\u001b[0m, in \u001b[0;36mallocate\u001b[0;34m(shape, dtype, target, **kwargs)\u001b[0m\n\u001b[1;32m    156\u001b[0m \u001b[38;5;28;01mif\u001b[39;00m target \u001b[38;5;129;01mis\u001b[39;00m \u001b[38;5;28;01mNone\u001b[39;00m:\n\u001b[1;32m    157\u001b[0m     target \u001b[38;5;241m=\u001b[39m Device\u001b[38;5;241m.\u001b[39mactive_device\n\u001b[0;32m--> 158\u001b[0m \u001b[38;5;28;01mreturn\u001b[39;00m \u001b[43mtarget\u001b[49m\u001b[38;5;241;43m.\u001b[39;49m\u001b[43mallocate\u001b[49m\u001b[43m(\u001b[49m\u001b[43mshape\u001b[49m\u001b[43m,\u001b[49m\u001b[43m \u001b[49m\u001b[43mdtype\u001b[49m\u001b[43m,\u001b[49m\u001b[43m \u001b[49m\u001b[38;5;241;43m*\u001b[39;49m\u001b[38;5;241;43m*\u001b[39;49m\u001b[43mkwargs\u001b[49m\u001b[43m)\u001b[49m\n",
      "File \u001b[0;32m/usr/local/share/pynq-venv/lib/python3.10/site-packages/pynq/pl_server/device.py:145\u001b[0m, in \u001b[0;36mDevice.allocate\u001b[0;34m(self, shape, dtype, **kwargs)\u001b[0m\n\u001b[1;32m    127\u001b[0m \u001b[38;5;28;01mdef\u001b[39;00m \u001b[38;5;21mallocate\u001b[39m(\u001b[38;5;28mself\u001b[39m, shape, dtype, \u001b[38;5;241m*\u001b[39m\u001b[38;5;241m*\u001b[39mkwargs):\n\u001b[1;32m    128\u001b[0m     \u001b[38;5;124;03m\"\"\"Allocate an array on the device\u001b[39;00m\n\u001b[1;32m    129\u001b[0m \n\u001b[1;32m    130\u001b[0m \u001b[38;5;124;03m    Returns a buffer on memory accessible to the device\u001b[39;00m\n\u001b[0;32m   (...)\u001b[0m\n\u001b[1;32m    143\u001b[0m \n\u001b[1;32m    144\u001b[0m \u001b[38;5;124;03m    \"\"\"\u001b[39;00m\n\u001b[0;32m--> 145\u001b[0m     \u001b[38;5;28;01mreturn\u001b[39;00m \u001b[38;5;28;43mself\u001b[39;49m\u001b[38;5;241;43m.\u001b[39;49m\u001b[43mdefault_memory\u001b[49m\u001b[38;5;241;43m.\u001b[39;49m\u001b[43mallocate\u001b[49m\u001b[43m(\u001b[49m\u001b[43mshape\u001b[49m\u001b[43m,\u001b[49m\u001b[43m \u001b[49m\u001b[43mdtype\u001b[49m\u001b[43m,\u001b[49m\u001b[43m \u001b[49m\u001b[38;5;241;43m*\u001b[39;49m\u001b[38;5;241;43m*\u001b[39;49m\u001b[43mkwargs\u001b[49m\u001b[43m)\u001b[49m\n",
      "File \u001b[0;32m/usr/local/share/pynq-venv/lib/python3.10/site-packages/pynq/pl_server/xrt_device.py:156\u001b[0m, in \u001b[0;36mXrtMemory.allocate\u001b[0;34m(self, shape, dtype, **kwargs)\u001b[0m\n\u001b[1;32m    145\u001b[0m \u001b[38;5;28;01mdef\u001b[39;00m \u001b[38;5;21mallocate\u001b[39m(\u001b[38;5;28mself\u001b[39m, shape, dtype, \u001b[38;5;241m*\u001b[39m\u001b[38;5;241m*\u001b[39mkwargs):\n\u001b[1;32m    146\u001b[0m     \u001b[38;5;124;03m\"\"\"Create a new  buffer in the memory bank\u001b[39;00m\n\u001b[1;32m    147\u001b[0m \n\u001b[1;32m    148\u001b[0m \u001b[38;5;124;03m    Parameters\u001b[39;00m\n\u001b[0;32m   (...)\u001b[0m\n\u001b[1;32m    154\u001b[0m \n\u001b[1;32m    155\u001b[0m \u001b[38;5;124;03m    \"\"\"\u001b[39;00m\n\u001b[0;32m--> 156\u001b[0m     buf \u001b[38;5;241m=\u001b[39m \u001b[43m_xrt_allocate\u001b[49m\u001b[43m(\u001b[49m\u001b[43mshape\u001b[49m\u001b[43m,\u001b[49m\u001b[43m \u001b[49m\u001b[43mdtype\u001b[49m\u001b[43m,\u001b[49m\u001b[43m \u001b[49m\u001b[38;5;28;43mself\u001b[39;49m\u001b[38;5;241;43m.\u001b[39;49m\u001b[43mdevice\u001b[49m\u001b[43m,\u001b[49m\u001b[43m \u001b[49m\u001b[38;5;28;43mself\u001b[39;49m\u001b[38;5;241;43m.\u001b[39;49m\u001b[43midx\u001b[49m\u001b[43m,\u001b[49m\u001b[43m \u001b[49m\u001b[38;5;241;43m*\u001b[39;49m\u001b[38;5;241;43m*\u001b[39;49m\u001b[43mkwargs\u001b[49m\u001b[43m)\u001b[49m\n\u001b[1;32m    157\u001b[0m     buf\u001b[38;5;241m.\u001b[39mmemory \u001b[38;5;241m=\u001b[39m \u001b[38;5;28mself\u001b[39m\n\u001b[1;32m    158\u001b[0m     \u001b[38;5;28;01mreturn\u001b[39;00m buf\n",
      "File \u001b[0;32m/usr/local/share/pynq-venv/lib/python3.10/site-packages/pynq/pl_server/xrt_device.py:104\u001b[0m, in \u001b[0;36m_xrt_allocate\u001b[0;34m(shape, dtype, device, memidx, cacheable, pointer, cache)\u001b[0m\n\u001b[1;32m    102\u001b[0m     bo, buf, device_address \u001b[38;5;241m=\u001b[39m pointer\n\u001b[1;32m    103\u001b[0m \u001b[38;5;28;01melse\u001b[39;00m:\n\u001b[0;32m--> 104\u001b[0m     bo \u001b[38;5;241m=\u001b[39m \u001b[43mdevice\u001b[49m\u001b[38;5;241;43m.\u001b[39;49m\u001b[43mallocate_bo\u001b[49m\u001b[43m(\u001b[49m\u001b[43msize\u001b[49m\u001b[43m,\u001b[49m\u001b[43m \u001b[49m\u001b[43mmemidx\u001b[49m\u001b[43m,\u001b[49m\u001b[43m \u001b[49m\u001b[43mcacheable\u001b[49m\u001b[43m)\u001b[49m\n\u001b[1;32m    105\u001b[0m     buf \u001b[38;5;241m=\u001b[39m device\u001b[38;5;241m.\u001b[39mmap_bo(bo)\n\u001b[1;32m    106\u001b[0m     device_address \u001b[38;5;241m=\u001b[39m device\u001b[38;5;241m.\u001b[39mget_device_address(bo)\n",
      "File \u001b[0;32m/usr/local/share/pynq-venv/lib/python3.10/site-packages/pynq/pl_server/xrt_device.py:408\u001b[0m, in \u001b[0;36mXrtDevice.allocate_bo\u001b[0;34m(self, size, idx, cacheable)\u001b[0m\n\u001b[1;32m    406\u001b[0m \u001b[38;5;28;01mif\u001b[39;00m cacheable:\n\u001b[1;32m    407\u001b[0m     idx \u001b[38;5;241m|\u001b[39m\u001b[38;5;241m=\u001b[39m ZOCL_BO_FLAGS_CACHEABLE\n\u001b[0;32m--> 408\u001b[0m bo \u001b[38;5;241m=\u001b[39m \u001b[43mxrt\u001b[49m\u001b[38;5;241;43m.\u001b[39;49m\u001b[43mxclAllocBO\u001b[49m\u001b[43m(\u001b[49m\u001b[38;5;28;43mself\u001b[39;49m\u001b[38;5;241;43m.\u001b[39;49m\u001b[43mhandle\u001b[49m\u001b[43m,\u001b[49m\u001b[43m \u001b[49m\u001b[43msize\u001b[49m\u001b[43m,\u001b[49m\u001b[43m \u001b[49m\u001b[43mxrt\u001b[49m\u001b[38;5;241;43m.\u001b[39;49m\u001b[43mxclBOKind\u001b[49m\u001b[38;5;241;43m.\u001b[39;49m\u001b[43mXCL_BO_DEVICE_RAM\u001b[49m\u001b[43m,\u001b[49m\u001b[43m \u001b[49m\u001b[43midx\u001b[49m\u001b[43m)\u001b[49m\n\u001b[1;32m    409\u001b[0m \u001b[38;5;28;01mif\u001b[39;00m bo \u001b[38;5;241m>\u001b[39m\u001b[38;5;241m=\u001b[39m \u001b[38;5;241m0x80000000\u001b[39m:\n\u001b[1;32m    410\u001b[0m     \u001b[38;5;28;01mraise\u001b[39;00m \u001b[38;5;167;01mRuntimeError\u001b[39;00m(\u001b[38;5;124m\"\u001b[39m\u001b[38;5;124mAllocate failed: \u001b[39m\u001b[38;5;124m\"\u001b[39m \u001b[38;5;241m+\u001b[39m \u001b[38;5;28mstr\u001b[39m(bo))\n",
      "File \u001b[0;32m/usr/local/share/pynq-venv/lib/python3.10/site-packages/pynq/_3rdparty/xrt.py:429\u001b[0m, in \u001b[0;36mxclAllocBO\u001b[0;34m(handle, size, domain, flags)\u001b[0m\n\u001b[1;32m    427\u001b[0m libc\u001b[38;5;241m.\u001b[39mxclAllocBO\u001b[38;5;241m.\u001b[39mrestype \u001b[38;5;241m=\u001b[39m ctypes\u001b[38;5;241m.\u001b[39mc_uint\n\u001b[1;32m    428\u001b[0m libc\u001b[38;5;241m.\u001b[39mxclAllocBO\u001b[38;5;241m.\u001b[39margtypes \u001b[38;5;241m=\u001b[39m [xclDeviceHandle, ctypes\u001b[38;5;241m.\u001b[39mc_size_t, ctypes\u001b[38;5;241m.\u001b[39mc_int, ctypes\u001b[38;5;241m.\u001b[39mc_uint]\n\u001b[0;32m--> 429\u001b[0m \u001b[38;5;28;01mreturn\u001b[39;00m \u001b[43mlibc\u001b[49m\u001b[38;5;241;43m.\u001b[39;49m\u001b[43mxclAllocBO\u001b[49m\u001b[43m(\u001b[49m\u001b[43mhandle\u001b[49m\u001b[43m,\u001b[49m\u001b[43m \u001b[49m\u001b[43msize\u001b[49m\u001b[43m,\u001b[49m\u001b[43m \u001b[49m\u001b[43mdomain\u001b[49m\u001b[43m,\u001b[49m\u001b[43m \u001b[49m\u001b[43mflags\u001b[49m\u001b[43m)\u001b[49m\n",
      "\u001b[0;31mKeyboardInterrupt\u001b[0m: "
     ]
    }
   ],
   "source": [
    "while True:\n",
    "    run_transmit_sine()   "
   ]
  },
  {
   "cell_type": "code",
   "execution_count": 10,
   "id": "9d16969a",
   "metadata": {},
   "outputs": [
    {
     "ename": "KeyboardInterrupt",
     "evalue": "",
     "output_type": "error",
     "traceback": [
      "\u001b[0;31m---------------------------------------------------------------------------\u001b[0m",
      "\u001b[0;31mKeyboardInterrupt\u001b[0m                         Traceback (most recent call last)",
      "Input \u001b[0;32mIn [10]\u001b[0m, in \u001b[0;36m<cell line: 2>\u001b[0;34m()\u001b[0m\n\u001b[1;32m      1\u001b[0m i\u001b[38;5;241m=\u001b[39m\u001b[38;5;241m1\u001b[39m\n\u001b[1;32m      2\u001b[0m \u001b[38;5;28;01mwhile\u001b[39;00m i\u001b[38;5;241m<\u001b[39m\u001b[38;5;241m10\u001b[39m:\n\u001b[0;32m----> 3\u001b[0m     \u001b[43mrun_transmit\u001b[49m\u001b[43m(\u001b[49m\u001b[43m)\u001b[49m\n\u001b[1;32m      4\u001b[0m     i \u001b[38;5;241m=\u001b[39m i\u001b[38;5;241m+\u001b[39m\u001b[38;5;241m1\u001b[39m\n",
      "Input \u001b[0;32mIn [5]\u001b[0m, in \u001b[0;36mrun_transmit\u001b[0;34m()\u001b[0m\n\u001b[1;32m     39\u001b[0m \u001b[38;5;66;03m#    while i < 50:\u001b[39;00m\n\u001b[1;32m     40\u001b[0m     \u001b[38;5;28;01mwhile\u001b[39;00m \u001b[38;5;28;01mTrue\u001b[39;00m:\n\u001b[0;32m---> 41\u001b[0m         \u001b[43mdac\u001b[49m\u001b[38;5;241;43m.\u001b[39;49m\u001b[43mwrite\u001b[49m\u001b[43m(\u001b[49m\u001b[43mpy_buffer\u001b[49m\u001b[38;5;241;43m.\u001b[39;49m\u001b[43mphysical_address\u001b[49m\u001b[38;5;241;43m|\u001b[39;49m\u001b[38;5;241;43m0x00000003\u001b[39;49m\u001b[43m)\u001b[49m\n\u001b[1;32m     42\u001b[0m         i \u001b[38;5;241m=\u001b[39m i\u001b[38;5;241m+\u001b[39m\u001b[38;5;241m1\u001b[39m\n",
      "File \u001b[0;32m/usr/local/share/pynq-venv/lib/python3.10/site-packages/pynq/lib/pmod/pmod_dac.py:74\u001b[0m, in \u001b[0;36mPmod_DAC.write\u001b[0;34m(self, value)\u001b[0m\n\u001b[1;32m     71\u001b[0m cmd \u001b[38;5;241m=\u001b[39m value\n\u001b[1;32m     72\u001b[0m \u001b[38;5;66;03m#cmd = 4293918723\u001b[39;00m\n\u001b[1;32m     73\u001b[0m \u001b[38;5;66;03m#print(cmd)\u001b[39;00m\n\u001b[0;32m---> 74\u001b[0m \u001b[38;5;28;43mself\u001b[39;49m\u001b[38;5;241;43m.\u001b[39;49m\u001b[43mmicroblaze\u001b[49m\u001b[38;5;241;43m.\u001b[39;49m\u001b[43mwrite_blocking_command\u001b[49m\u001b[43m(\u001b[49m\u001b[43mcmd\u001b[49m\u001b[43m)\u001b[49m\n",
      "File \u001b[0;32m/usr/local/share/pynq-venv/lib/python3.10/site-packages/pynq/lib/pmod/pmod.py:124\u001b[0m, in \u001b[0;36mPmod.write_blocking_command\u001b[0;34m(self, command)\u001b[0m\n\u001b[1;32m    108\u001b[0m \u001b[38;5;28;01mdef\u001b[39;00m \u001b[38;5;21mwrite_blocking_command\u001b[39m(\u001b[38;5;28mself\u001b[39m, command):\n\u001b[1;32m    109\u001b[0m     \u001b[38;5;124;03m\"\"\"This method writes a blocking command to the Microblaze.\u001b[39;00m\n\u001b[1;32m    110\u001b[0m \n\u001b[1;32m    111\u001b[0m \u001b[38;5;124;03m    The program waits in the loop until the command is cleared by the\u001b[39;00m\n\u001b[0;32m   (...)\u001b[0m\n\u001b[1;32m    122\u001b[0m \n\u001b[1;32m    123\u001b[0m \u001b[38;5;124;03m    \"\"\"\u001b[39;00m\n\u001b[0;32m--> 124\u001b[0m     \u001b[38;5;28;43mself\u001b[39;49m\u001b[38;5;241;43m.\u001b[39;49m\u001b[43mwrite\u001b[49m\u001b[43m(\u001b[49m\u001b[43mMAILBOX_OFFSET\u001b[49m\u001b[43m \u001b[49m\u001b[38;5;241;43m+\u001b[39;49m\u001b[43m \u001b[49m\u001b[43mMAILBOX_PY2IOP_CMD_OFFSET\u001b[49m\u001b[43m,\u001b[49m\u001b[43m \u001b[49m\u001b[43mcommand\u001b[49m\u001b[43m)\u001b[49m\n\u001b[1;32m    125\u001b[0m     \u001b[38;5;28;01mwhile\u001b[39;00m \u001b[38;5;28mself\u001b[39m\u001b[38;5;241m.\u001b[39mread(MAILBOX_OFFSET \u001b[38;5;241m+\u001b[39m MAILBOX_PY2IOP_CMD_OFFSET) \u001b[38;5;241m!=\u001b[39m \u001b[38;5;241m0\u001b[39m:\n\u001b[1;32m    126\u001b[0m         \u001b[38;5;28;01mpass\u001b[39;00m\n",
      "File \u001b[0;32m/usr/local/share/pynq-venv/lib/python3.10/site-packages/pynq/lib/pynqmicroblaze/pynqmicroblaze.py:249\u001b[0m, in \u001b[0;36mPynqMicroblaze.write\u001b[0;34m(self, offset, data)\u001b[0m\n\u001b[1;32m    234\u001b[0m \u001b[38;5;124;03m\"\"\"This method write data into the shared memory of the Microblaze.\u001b[39;00m\n\u001b[1;32m    235\u001b[0m \n\u001b[1;32m    236\u001b[0m \u001b[38;5;124;03mParameters\u001b[39;00m\n\u001b[0;32m   (...)\u001b[0m\n\u001b[1;32m    246\u001b[0m \n\u001b[1;32m    247\u001b[0m \u001b[38;5;124;03m\"\"\"\u001b[39;00m\n\u001b[1;32m    248\u001b[0m \u001b[38;5;28;01mif\u001b[39;00m \u001b[38;5;28mtype\u001b[39m(data) \u001b[38;5;129;01mis\u001b[39;00m \u001b[38;5;28mint\u001b[39m:\n\u001b[0;32m--> 249\u001b[0m     \u001b[38;5;28;43mself\u001b[39;49m\u001b[38;5;241;43m.\u001b[39;49m\u001b[43mmmio\u001b[49m\u001b[38;5;241;43m.\u001b[39;49m\u001b[43mwrite\u001b[49m\u001b[43m(\u001b[49m\u001b[43moffset\u001b[49m\u001b[43m,\u001b[49m\u001b[43m \u001b[49m\u001b[43mdata\u001b[49m\u001b[43m)\u001b[49m\n\u001b[1;32m    250\u001b[0m \u001b[38;5;28;01melif\u001b[39;00m \u001b[38;5;28mtype\u001b[39m(data) \u001b[38;5;129;01mis\u001b[39;00m \u001b[38;5;28mlist\u001b[39m:\n\u001b[1;32m    251\u001b[0m     \u001b[38;5;28;01mfor\u001b[39;00m i, word \u001b[38;5;129;01min\u001b[39;00m \u001b[38;5;28menumerate\u001b[39m(data):\n",
      "File \u001b[0;32m/usr/local/share/pynq-venv/lib/python3.10/site-packages/pynq/mmio.py:153\u001b[0m, in \u001b[0;36mMMIO.write_mm\u001b[0;34m(self, offset, data)\u001b[0m\n\u001b[1;32m    150\u001b[0m     \u001b[38;5;28;01mraise\u001b[39;00m \u001b[38;5;167;01mMemoryError\u001b[39;00m(\u001b[38;5;124m\"\u001b[39m\u001b[38;5;124mUnaligned write: offset must be multiple of 4.\u001b[39m\u001b[38;5;124m\"\u001b[39m)\n\u001b[1;32m    152\u001b[0m \u001b[38;5;28;01mif\u001b[39;00m \u001b[38;5;28mtype\u001b[39m(data) \u001b[38;5;129;01mis\u001b[39;00m \u001b[38;5;28mint\u001b[39m:\n\u001b[0;32m--> 153\u001b[0m     \u001b[38;5;28mself\u001b[39m\u001b[38;5;241m.\u001b[39marray[idx] \u001b[38;5;241m=\u001b[39m \u001b[43mnp\u001b[49m\u001b[38;5;241;43m.\u001b[39;49m\u001b[43muint32\u001b[49m\u001b[43m(\u001b[49m\u001b[43mdata\u001b[49m\u001b[43m)\u001b[49m\n\u001b[1;32m    154\u001b[0m \u001b[38;5;28;01melif\u001b[39;00m \u001b[38;5;28mtype\u001b[39m(data) \u001b[38;5;129;01mis\u001b[39;00m \u001b[38;5;28mbytes\u001b[39m:\n\u001b[1;32m    155\u001b[0m     length \u001b[38;5;241m=\u001b[39m \u001b[38;5;28mlen\u001b[39m(data)\n",
      "\u001b[0;31mKeyboardInterrupt\u001b[0m: "
     ]
    }
   ],
   "source": [
    "i=1\n",
    "while i<10:\n",
    "    run_transmit()\n",
    "    i = i+1"
   ]
  },
  {
   "cell_type": "code",
   "execution_count": null,
   "id": "d3f3124c",
   "metadata": {},
   "outputs": [],
   "source": [
    "while True:\n",
    "    dac.write(2.0)\n",
    "    dac.write(0)"
   ]
  },
  {
   "cell_type": "code",
   "execution_count": 11,
   "id": "c5c59600",
   "metadata": {},
   "outputs": [
    {
     "data": {
      "text/plain": [
       "<function matplotlib.pyplot.show(close=None, block=None)>"
      ]
     },
     "execution_count": 11,
     "metadata": {},
     "output_type": "execute_result"
    },
    {
     "data": {
      "image/png": "[encoded data removed]",
      "text/plain": [
       "<Figure size 432x288 with 1 Axes>"
      ]
     },
     "metadata": {
      "needs_background": "light"
     },
     "output_type": "display_data"
    }
   ],
   "source": [
    "import matplotlib.pyplot as plt \n",
    "\n",
    "tx = run_transmit_sine()\n",
    "plt.plot(tx)\n",
    "plt.show"
   ]
  },
  {
   "cell_type": "code",
   "execution_count": 12,
   "id": "9706eee4",
   "metadata": {},
   "outputs": [
    {
     "ename": "KeyboardInterrupt",
     "evalue": "",
     "output_type": "error",
     "traceback": [
      "\u001b[0;31m---------------------------------------------------------------------------\u001b[0m",
      "\u001b[0;31mKeyboardInterrupt\u001b[0m                         Traceback (most recent call last)",
      "Input \u001b[0;32mIn [12]\u001b[0m, in \u001b[0;36m<cell line: 3>\u001b[0;34m()\u001b[0m\n\u001b[1;32m      1\u001b[0m \u001b[38;5;28;01mimport\u001b[39;00m \u001b[38;5;21;01mmatplotlib\u001b[39;00m\u001b[38;5;21;01m.\u001b[39;00m\u001b[38;5;21;01mpyplot\u001b[39;00m \u001b[38;5;28;01mas\u001b[39;00m \u001b[38;5;21;01mplt\u001b[39;00m \n\u001b[0;32m----> 3\u001b[0m tx \u001b[38;5;241m=\u001b[39m \u001b[43mrun_transmit\u001b[49m\u001b[43m(\u001b[49m\u001b[43m)\u001b[49m\n\u001b[1;32m      4\u001b[0m plt\u001b[38;5;241m.\u001b[39mplot(tx)\n\u001b[1;32m      5\u001b[0m plt\u001b[38;5;241m.\u001b[39mshow\n",
      "Input \u001b[0;32mIn [5]\u001b[0m, in \u001b[0;36mrun_transmit\u001b[0;34m()\u001b[0m\n\u001b[1;32m     39\u001b[0m \u001b[38;5;66;03m#    while i < 50:\u001b[39;00m\n\u001b[1;32m     40\u001b[0m     \u001b[38;5;28;01mwhile\u001b[39;00m \u001b[38;5;28;01mTrue\u001b[39;00m:\n\u001b[0;32m---> 41\u001b[0m         \u001b[43mdac\u001b[49m\u001b[38;5;241;43m.\u001b[39;49m\u001b[43mwrite\u001b[49m\u001b[43m(\u001b[49m\u001b[43mpy_buffer\u001b[49m\u001b[38;5;241;43m.\u001b[39;49m\u001b[43mphysical_address\u001b[49m\u001b[38;5;241;43m|\u001b[39;49m\u001b[38;5;241;43m0x00000003\u001b[39;49m\u001b[43m)\u001b[49m\n\u001b[1;32m     42\u001b[0m         i \u001b[38;5;241m=\u001b[39m i\u001b[38;5;241m+\u001b[39m\u001b[38;5;241m1\u001b[39m\n",
      "File \u001b[0;32m/usr/local/share/pynq-venv/lib/python3.10/site-packages/pynq/lib/pmod/pmod_dac.py:74\u001b[0m, in \u001b[0;36mPmod_DAC.write\u001b[0;34m(self, value)\u001b[0m\n\u001b[1;32m     71\u001b[0m cmd \u001b[38;5;241m=\u001b[39m value\n\u001b[1;32m     72\u001b[0m \u001b[38;5;66;03m#cmd = 4293918723\u001b[39;00m\n\u001b[1;32m     73\u001b[0m \u001b[38;5;66;03m#print(cmd)\u001b[39;00m\n\u001b[0;32m---> 74\u001b[0m \u001b[38;5;28;43mself\u001b[39;49m\u001b[38;5;241;43m.\u001b[39;49m\u001b[43mmicroblaze\u001b[49m\u001b[38;5;241;43m.\u001b[39;49m\u001b[43mwrite_blocking_command\u001b[49m\u001b[43m(\u001b[49m\u001b[43mcmd\u001b[49m\u001b[43m)\u001b[49m\n",
      "File \u001b[0;32m/usr/local/share/pynq-venv/lib/python3.10/site-packages/pynq/lib/pmod/pmod.py:108\u001b[0m, in \u001b[0;36mPmod.write_blocking_command\u001b[0;34m(self, command)\u001b[0m\n\u001b[1;32m    105\u001b[0m     offset \u001b[38;5;241m=\u001b[39m MAILBOX_OFFSET \u001b[38;5;241m+\u001b[39m data_offset\n\u001b[1;32m    106\u001b[0m     \u001b[38;5;28;01mreturn\u001b[39;00m \u001b[38;5;28mself\u001b[39m\u001b[38;5;241m.\u001b[39mread(offset, num_words)\n\u001b[0;32m--> 108\u001b[0m \u001b[38;5;28;01mdef\u001b[39;00m \u001b[38;5;21mwrite_blocking_command\u001b[39m(\u001b[38;5;28mself\u001b[39m, command):\n\u001b[1;32m    109\u001b[0m     \u001b[38;5;124;03m\"\"\"This method writes a blocking command to the Microblaze.\u001b[39;00m\n\u001b[1;32m    110\u001b[0m \n\u001b[1;32m    111\u001b[0m \u001b[38;5;124;03m    The program waits in the loop until the command is cleared by the\u001b[39;00m\n\u001b[0;32m   (...)\u001b[0m\n\u001b[1;32m    122\u001b[0m \n\u001b[1;32m    123\u001b[0m \u001b[38;5;124;03m    \"\"\"\u001b[39;00m\n\u001b[1;32m    124\u001b[0m     \u001b[38;5;28mself\u001b[39m\u001b[38;5;241m.\u001b[39mwrite(MAILBOX_OFFSET \u001b[38;5;241m+\u001b[39m MAILBOX_PY2IOP_CMD_OFFSET, command)\n",
      "\u001b[0;31mKeyboardInterrupt\u001b[0m: "
     ]
    }
   ],
   "source": [
    "import matplotlib.pyplot as plt \n",
    "\n",
    "tx = run_transmit()\n",
    "plt.plot(tx)\n",
    "plt.show"
   ]
  },
  {
   "cell_type": "markdown",
   "id": "f3be4ed3",
   "metadata": {},
   "source": [
    "# Transmit When Button 0 is Pressed"
   ]
  },
  {
   "cell_type": "code",
   "execution_count": 35,
   "id": "abf75134",
   "metadata": {},
   "outputs": [],
   "source": [
    "import asyncio\n",
    "import pynq.lib.rgbled as rgbled \n",
    "led4 = rgbled.RGBLED(4)\n",
    "btns = base.btns_gpio"
   ]
  },
  {
   "cell_type": "code",
   "execution_count": 36,
   "id": "0c080618",
   "metadata": {},
   "outputs": [],
   "source": [
    "class Buttons:    \n",
    "    none = 0\n",
    "    BTN0 = 1\n",
    "    BTN1 = 2\n",
    "    \n",
    "noColor = 0x0\n",
    "blue = 0x1\n",
    "green = 0x2\n",
    "red = 0x4\n",
    "    \n",
    "numColorChanges = 0\n",
    "maxColorChanges = 4\n",
    "lastBtnPressed = Buttons.none\n",
    "buttonPressed = Buttons.none\n",
    "\n",
    "checkBtnsSleepTime = 0.01\n",
    "\n",
    "blinking = True"
   ]
  },
  {
   "cell_type": "code",
   "execution_count": 37,
   "id": "ea12a1c8",
   "metadata": {},
   "outputs": [],
   "source": [
    "def lightLed(color):\n",
    "    global numColorChanges, lastBtnPressed, buttonPressed\n",
    "    \n",
    "    if (lastBtnPressed != buttonPressed) and (buttonPressed != Buttons.none):\n",
    "        led4.write(color)\n",
    "        numColorChanges += 1\n",
    "        lastBtnPressed = buttonPressed"
   ]
  },
  {
   "cell_type": "code",
   "execution_count": 38,
   "id": "70580318",
   "metadata": {},
   "outputs": [],
   "source": [
    "async def checkButtons(_loop):\n",
    "    global numColorChanges, maxColorChanges, lastBtnPressed, buttonPressed, checkBtnsSleepTime\n",
    "    \n",
    "    numColorChanges = 0\n",
    "    maxColorChanges = 4\n",
    "    lastBtnPressed = Buttons.none\n",
    "    buttonPressed = Buttons.none\n",
    "\n",
    "    led4.off()\n",
    "    base.leds[0].on()\n",
    "    base.leds[1].on()\n",
    "\n",
    "    while numColorChanges < maxColorChanges:\n",
    "        await asyncio.sleep(checkBtnsSleepTime)\n",
    "        buttonPressed = btns.read()\n",
    "\n",
    "        match buttonPressed:          \n",
    "            case Buttons.BTN0:\n",
    "                lightLed(green)\n",
    "            case Buttons.BTN1:\n",
    "                lightLed(red)\n",
    "                \n",
    "    led4.off()\n",
    "    base.leds[0].off()\n",
    "    base.leds[1].off()\n",
    "    base.leds[3].off()\n",
    "    blinking = False\n",
    "    _loop.stop()"
   ]
  },
  {
   "cell_type": "code",
   "execution_count": 39,
   "id": "00629ed3",
   "metadata": {},
   "outputs": [],
   "source": [
    "async def transmitClicking():\n",
    "    global blinking, lastBtnPressed\n",
    "    blinkSleepTime = 0.01\n",
    "    \n",
    "    base.leds[3].off()\n",
    "    \n",
    "    while blinking:\n",
    "        await asyncio.sleep(blinkSleepTime)\n",
    "        \n",
    "        if lastBtnPressed == Buttons.BTN0:\n",
    "            run_transmit_sine()\n",
    "            \n",
    "        if lastBtnPressed == Buttons.BTN1:\n",
    "            dac.write(0)"
   ]
  },
  {
   "cell_type": "code",
   "execution_count": 40,
   "id": "739e81a8",
   "metadata": {},
   "outputs": [
    {
     "name": "stdout",
     "output_type": "stream",
     "text": [
      "Finished.\n",
      "\n"
     ]
    }
   ],
   "source": [
    "loop = asyncio.new_event_loop()\n",
    "loop.create_task(transmitClicking())\n",
    "loop.create_task(checkButtons(loop))\n",
    "loop.run_forever()\n",
    "loop.close()  \n",
    "\n",
    "print(\"Finished.\\n\")"
   ]
  },
  {
   "cell_type": "code",
   "execution_count": null,
   "id": "cdeedac3",
   "metadata": {},
   "outputs": [],
   "source": []
  }
 ],
 "metadata": {
  "kernelspec": {
   "display_name": "Python 3 (ipykernel)",
   "language": "python",
   "name": "python3"
  },
  "language_info": {
   "codemirror_mode": {
    "name": "ipython",
    "version": 3
   },
   "file_extension": ".py",
   "mimetype": "text/x-python",
   "name": "python",
   "nbconvert_exporter": "python",
   "pygments_lexer": "ipython3",
   "version": "3.10.4"
  }
 },
 "nbformat": 4,
 "nbformat_minor": 5
}
