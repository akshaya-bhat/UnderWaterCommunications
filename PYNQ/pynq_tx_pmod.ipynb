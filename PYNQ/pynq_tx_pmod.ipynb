{
 "cells": [
  {
   "cell_type": "markdown",
   "metadata": {},
   "source": [
    "# Importing some libraries"
   ]
  },
  {
   "cell_type": "code",
   "execution_count": 1,
   "metadata": {},
   "outputs": [
    {
     "data": {
      "application/javascript": [
       "\n",
       "try {\n",
       "require(['notebook/js/codecell'], function(codecell) {\n",
       "  codecell.CodeCell.options_default.highlight_modes[\n",
       "      'magic_text/x-csrc'] = {'reg':[/^%%microblaze/]};\n",
       "  Jupyter.notebook.events.one('kernel_ready.Kernel', function(){\n",
       "      Jupyter.notebook.get_cells().map(function(cell){\n",
       "          if (cell.cell_type == 'code'){ cell.auto_highlight(); } }) ;\n",
       "  });\n",
       "});\n",
       "} catch (e) {};\n"
      ]
     },
     "metadata": {},
     "output_type": "display_data"
    },
    {
     "data": {
      "application/javascript": [
       "\n",
       "try {\n",
       "require(['notebook/js/codecell'], function(codecell) {\n",
       "  codecell.CodeCell.options_default.highlight_modes[\n",
       "      'magic_text/x-csrc'] = {'reg':[/^%%pybind11/]};\n",
       "  Jupyter.notebook.events.one('kernel_ready.Kernel', function(){\n",
       "      Jupyter.notebook.get_cells().map(function(cell){\n",
       "          if (cell.cell_type == 'code'){ cell.auto_highlight(); } }) ;\n",
       "  });\n",
       "});\n",
       "} catch (e) {};\n"
      ]
     },
     "metadata": {},
     "output_type": "display_data"
    }
   ],
   "source": [
    "from pynq.overlays.base import BaseOverlay\n",
    "base = BaseOverlay(\"base.bit\")"
   ]
  },
  {
   "cell_type": "markdown",
   "metadata": {},
   "source": [
    "# GPIO Library Functions"
   ]
  },
  {
   "cell_type": "code",
   "execution_count": 100,
   "metadata": {},
   "outputs": [],
   "source": [
    "%%microblaze base.PMODA\n",
    "\n",
    "#include \"gpio.h\"\n",
    "#include \"pyprintf.h\"\n",
    "#define GPIO0 0\n",
    "#define GPIO1 1\n",
    "#define GPIO2 2\n",
    "\n",
    "//Function to turn on/off a selected pin of PMODA\n",
    "void write_gpio(unsigned int pin, unsigned int val)\n",
    "{\n",
    "    if (val > 1)\n",
    "    {\n",
    "        pyprintf(\"pin value must be 0 or 1\");\n",
    "    }\n",
    "    \n",
    "    gpio pin_out = gpio_open(pin);\n",
    "    gpio_set_direction(pin_out, GPIO_OUT);\n",
    "    gpio_write(pin_out, val);\n",
    "}\n",
    "\n",
    "//Function to read the value of a selected pin of PMODA\n",
    "unsigned int read_gpio(unsigned int pin)\n",
    "{\n",
    "    gpio pin_in = gpio_open(pin);\n",
    "    gpio_set_direction(pin_in, GPIO_IN);\n",
    "    int a = gpio_read(pin_in);\n",
    "    pyprintf(\"pin %d --- val is %d\\n\", pin, a);\n",
    "    return a;    \n",
    "}\n",
    "\n",
    "void reset_all_gpios()\n",
    "{\n",
    "    pyprintf(\"reset PMOD \\n\");\n",
    "    for(int pin=0; pin < 6; pin++) \n",
    "    {\n",
    "        write_gpio(pin, 0);\n",
    "    }    \n",
    "}"
   ]
  },
  {
   "cell_type": "markdown",
   "metadata": {},
   "source": [
    "# Emulate a Pulse Width Modulation"
   ]
  },
  {
   "cell_type": "code",
   "execution_count": 101,
   "metadata": {},
   "outputs": [],
   "source": [
    "import time\n",
    "\n",
    "def emulatePwm(frequency, dutycycle, color):\n",
    "    period = 1 / frequency\n",
    "    newDutyCycle = dutycycle / 100\n",
    "    delay = period * newDutyCycle\n",
    "    \n",
    "    #print(\"on delay: \", delay)\n",
    "    #print(\"off delay:\", period - delay)\n",
    "    count = frequency\n",
    "    \n",
    "    while count:\n",
    "        write_gpio(0, 0x1);\n",
    "        time.sleep(delay);\n",
    "        read_gpio(0);\n",
    "        \n",
    "        \n",
    "        write_gpio(0, 0x0);\n",
    "        time.sleep(period - delay);\n",
    "    \n",
    "        count -= 1"
   ]
  },
  {
   "cell_type": "markdown",
   "metadata": {},
   "source": [
    "# Main Loop"
   ]
  },
  {
   "cell_type": "code",
   "execution_count": 103,
   "metadata": {},
   "outputs": [
    {
     "name": "stdout",
     "output_type": "stream",
     "text": [
      "reset PMOD \n",
      "pin 0 --- val is 1\n",
      "pin 0 --- val is 1\n",
      "pin 0 --- val is 1\n",
      "pin 0 --- val is 1\n",
      "pin 0 --- val is 1\n",
      "pin 0 --- val is 1\n",
      "pin 0 --- val is 1\n",
      "pin 0 --- val is 1\n",
      "pin 0 --- val is 1\n",
      "pin 0 --- val is 1\n",
      "pin 0 --- val is 1\n"
     ]
    },
    {
     "ename": "KeyboardInterrupt",
     "evalue": "",
     "output_type": "error",
     "traceback": [
      "\u001b[0;31m---------------------------------------------------------------------------\u001b[0m",
      "\u001b[0;31mKeyboardInterrupt\u001b[0m                         Traceback (most recent call last)",
      "Input \u001b[0;32mIn [103]\u001b[0m, in \u001b[0;36m<cell line: 5>\u001b[0;34m()\u001b[0m\n\u001b[1;32m      3\u001b[0m i \u001b[38;5;241m=\u001b[39m \u001b[38;5;241m1\u001b[39m\n\u001b[1;32m      5\u001b[0m \u001b[38;5;28;01mwhile\u001b[39;00m i \u001b[38;5;241m<\u001b[39m \u001b[38;5;241m1000\u001b[39m:\n\u001b[0;32m----> 6\u001b[0m     \u001b[43memulatePwm\u001b[49m\u001b[43m(\u001b[49m\u001b[38;5;241;43m1\u001b[39;49m\u001b[43m,\u001b[49m\u001b[43m \u001b[49m\u001b[38;5;241;43m20\u001b[39;49m\u001b[43m,\u001b[49m\u001b[43m \u001b[49m\u001b[38;5;241;43m4\u001b[39;49m\u001b[43m)\u001b[49m\n\u001b[1;32m      7\u001b[0m     i \u001b[38;5;241m=\u001b[39m i\u001b[38;5;241m+\u001b[39m\u001b[38;5;241m1\u001b[39m\n",
      "Input \u001b[0;32mIn [101]\u001b[0m, in \u001b[0;36memulatePwm\u001b[0;34m(frequency, dutycycle, color)\u001b[0m\n\u001b[1;32m     15\u001b[0m read_gpio(\u001b[38;5;241m0\u001b[39m);\n\u001b[1;32m     18\u001b[0m write_gpio(\u001b[38;5;241m0\u001b[39m, \u001b[38;5;241m0x0\u001b[39m);\n\u001b[0;32m---> 19\u001b[0m \u001b[43mtime\u001b[49m\u001b[38;5;241;43m.\u001b[39;49m\u001b[43msleep\u001b[49m\u001b[43m(\u001b[49m\u001b[43mperiod\u001b[49m\u001b[43m \u001b[49m\u001b[38;5;241;43m-\u001b[39;49m\u001b[43m \u001b[49m\u001b[43mdelay\u001b[49m\u001b[43m)\u001b[49m;\n\u001b[1;32m     21\u001b[0m count \u001b[38;5;241m-\u001b[39m\u001b[38;5;241m=\u001b[39m \u001b[38;5;241m1\u001b[39m\n",
      "\u001b[0;31mKeyboardInterrupt\u001b[0m: "
     ]
    }
   ],
   "source": [
    "reset_all_gpios()\n",
    "\n",
    "i = 1\n",
    "\n",
    "while i < 1000:\n",
    "    emulatePwm(1, 20, 4)\n",
    "    i = i+1"
   ]
  },
  {
   "cell_type": "markdown",
   "metadata": {},
   "source": [
    "# Testing LEDS"
   ]
  },
  {
   "cell_type": "code",
   "execution_count": 22,
   "metadata": {},
   "outputs": [],
   "source": [
    "noColor = 0x0\n",
    "blue = 0x1\n",
    "green = 0x2\n",
    "red = 0x4"
   ]
  },
  {
   "cell_type": "code",
   "execution_count": 5,
   "metadata": {},
   "outputs": [],
   "source": [
    "base.leds[0].on()"
   ]
  },
  {
   "cell_type": "code",
   "execution_count": 205,
   "metadata": {},
   "outputs": [],
   "source": [
    "base.leds[0].off()"
   ]
  },
  {
   "cell_type": "code",
   "execution_count": 23,
   "metadata": {},
   "outputs": [],
   "source": [
    "import pynq.lib.rgbled as rgbled \n",
    "led4 = rgbled.RGBLED(4)"
   ]
  },
  {
   "cell_type": "code",
   "execution_count": 17,
   "metadata": {},
   "outputs": [],
   "source": [
    "led4.write(green)"
   ]
  },
  {
   "cell_type": "code",
   "execution_count": 15,
   "metadata": {},
   "outputs": [],
   "source": [
    "led4.write(blue)"
   ]
  },
  {
   "cell_type": "code",
   "execution_count": 23,
   "metadata": {},
   "outputs": [],
   "source": [
    "led4.write(red)"
   ]
  },
  {
   "cell_type": "code",
   "execution_count": 33,
   "metadata": {},
   "outputs": [],
   "source": [
    "led4.off()"
   ]
  },
  {
   "cell_type": "markdown",
   "metadata": {},
   "source": [
    "# Testing Buttons"
   ]
  },
  {
   "cell_type": "code",
   "execution_count": 109,
   "metadata": {},
   "outputs": [],
   "source": [
    "import asyncio\n",
    "import pynq.lib.rgbled as rgbled \n",
    "led4 = rgbled.RGBLED(4)\n",
    "btns = base.btns_gpio"
   ]
  },
  {
   "cell_type": "code",
   "execution_count": 110,
   "metadata": {},
   "outputs": [],
   "source": [
    "class Buttons:    \n",
    "    none = 0\n",
    "    BTN0 = 1\n",
    "    BTN1 = 2\n",
    "    \n",
    "noColor = 0x0\n",
    "blue = 0x1\n",
    "green = 0x2\n",
    "red = 0x4\n",
    "    \n",
    "numColorChanges = 0\n",
    "maxColorChanges = 4\n",
    "lastBtnPressed = Buttons.none\n",
    "buttonPressed = Buttons.none\n",
    "\n",
    "checkBtnsSleepTime = 0.01\n",
    "\n",
    "blinking = True"
   ]
  },
  {
   "cell_type": "code",
   "execution_count": 111,
   "metadata": {},
   "outputs": [],
   "source": [
    "def lightLed(color):\n",
    "    global numColorChanges, lastBtnPressed, buttonPressed\n",
    "    \n",
    "    if (lastBtnPressed != buttonPressed) and (buttonPressed != Buttons.none):\n",
    "        led4.write(color)\n",
    "        numColorChanges += 1\n",
    "        lastBtnPressed = buttonPressed"
   ]
  },
  {
   "cell_type": "code",
   "execution_count": 112,
   "metadata": {},
   "outputs": [],
   "source": [
    "async def checkButtons(_loop):\n",
    "    global numColorChanges, maxColorChanges, lastBtnPressed, buttonPressed, checkBtnsSleepTime\n",
    "    \n",
    "    numColorChanges = 0\n",
    "    maxColorChanges = 4\n",
    "    lastBtnPressed = Buttons.none\n",
    "    buttonPressed = Buttons.none\n",
    "\n",
    "    led4.off()\n",
    "    base.leds[0].on()\n",
    "    base.leds[1].on()\n",
    "\n",
    "    while numColorChanges < maxColorChanges:\n",
    "        await asyncio.sleep(checkBtnsSleepTime)\n",
    "        buttonPressed = btns.read()\n",
    "\n",
    "        match buttonPressed:          \n",
    "            case Buttons.BTN0:\n",
    "                lightLed(green)\n",
    "            case Buttons.BTN1:\n",
    "                lightLed(red)\n",
    "                \n",
    "    led4.off()\n",
    "    base.leds[0].off()\n",
    "    base.leds[1].off()\n",
    "    base.leds[3].off()\n",
    "    blinking = False\n",
    "    _loop.stop()"
   ]
  },
  {
   "cell_type": "code",
   "execution_count": 113,
   "metadata": {},
   "outputs": [],
   "source": [
    "async def transmitClicking():\n",
    "    global blinking, lastBtnPressed\n",
    "    blinkSleepTime = 0.3\n",
    "    \n",
    "    base.leds[3].off()\n",
    "    reset_all_gpios()\n",
    "    \n",
    "    while blinking:\n",
    "        await asyncio.sleep(blinkSleepTime)\n",
    "        \n",
    "        if lastBtnPressed == Buttons.BTN0:\n",
    "            blinkSleepTime = 0.3\n",
    "            write_gpio(0, 0x1);\n",
    "            base.leds[3].on()\n",
    "            await asyncio.sleep(blinkSleepTime)\n",
    "            write_gpio(0, 0x0);\n",
    "            base.leds[3].off()\n",
    "            \n",
    "        if lastBtnPressed == Buttons.BTN1:\n",
    "            blinkSleepTime = 0.1\n",
    "            write_gpio(0, 0x1);\n",
    "            base.leds[3].on()\n",
    "            await asyncio.sleep(blinkSleepTime)\n",
    "            write_gpio(0, 0x0);\n",
    "            base.leds[3].off()"
   ]
  },
  {
   "cell_type": "code",
   "execution_count": 114,
   "metadata": {},
   "outputs": [
    {
     "name": "stdout",
     "output_type": "stream",
     "text": [
      "Finished.\n",
      "\n"
     ]
    }
   ],
   "source": [
    "loop = asyncio.new_event_loop()\n",
    "loop.create_task(transmitClicking())\n",
    "loop.create_task(checkButtons(loop))\n",
    "loop.run_forever()\n",
    "loop.close()  \n",
    "\n",
    "print(\"Finished.\\n\")"
   ]
  },
  {
   "cell_type": "code",
   "execution_count": null,
   "metadata": {},
   "outputs": [],
   "source": []
  }
 ],
 "metadata": {
  "kernelspec": {
   "display_name": "Python 3 (ipykernel)",
   "language": "python",
   "name": "python3"
  },
  "language_info": {
   "codemirror_mode": {
    "name": "ipython",
    "version": 3
   },
   "file_extension": ".py",
   "mimetype": "text/x-python",
   "name": "python",
   "nbconvert_exporter": "python",
   "pygments_lexer": "ipython3",
   "version": "3.10.4"
  }
 },
 "nbformat": 4,
 "nbformat_minor": 2
}
