{
 "cells": [
  {
   "cell_type": "markdown",
   "metadata": {},
   "source": [
    "# Demo Receiver Program\n",
    "\n",
    "To be used with transducers in a small container of water.\n",
    "\n",
    "Program starts when button 1 is pushed and ends when button 4 is pushed"
   ]
  },
  {
   "cell_type": "markdown",
   "metadata": {},
   "source": [
    "### Imports and Microblaze Setup"
   ]
  },
  {
   "cell_type": "code",
   "execution_count": 1,
   "metadata": {},
   "outputs": [
    {
     "data": {
      "application/javascript": [
       "\n",
       "try {\n",
       "require(['notebook/js/codecell'], function(codecell) {\n",
       "  codecell.CodeCell.options_default.highlight_modes[\n",
       "      'magic_text/x-csrc'] = {'reg':[/^%%microblaze/]};\n",
       "  Jupyter.notebook.events.one('kernel_ready.Kernel', function(){\n",
       "      Jupyter.notebook.get_cells().map(function(cell){\n",
       "          if (cell.cell_type == 'code'){ cell.auto_highlight(); } }) ;\n",
       "  });\n",
       "});\n",
       "} catch (e) {};\n"
      ]
     },
     "metadata": {},
     "output_type": "display_data"
    },
    {
     "data": {
      "application/javascript": [
       "\n",
       "try {\n",
       "require(['notebook/js/codecell'], function(codecell) {\n",
       "  codecell.CodeCell.options_default.highlight_modes[\n",
       "      'magic_text/x-csrc'] = {'reg':[/^%%pybind11/]};\n",
       "  Jupyter.notebook.events.one('kernel_ready.Kernel', function(){\n",
       "      Jupyter.notebook.get_cells().map(function(cell){\n",
       "          if (cell.cell_type == 'code'){ cell.auto_highlight(); } }) ;\n",
       "  });\n",
       "});\n",
       "} catch (e) {};\n"
      ]
     },
     "metadata": {},
     "output_type": "display_data"
    }
   ],
   "source": [
    "from pynq.overlays.base import BaseOverlay\n",
    "base = BaseOverlay(\"base.bit\")"
   ]
  },
  {
   "cell_type": "code",
   "execution_count": 2,
   "metadata": {},
   "outputs": [],
   "source": [
    "from pynq.lib.arduino import Arduino_IO\n",
    "from pynq.lib.arduino import Arduino_Analog\n",
    "from pynq.lib.arduino import ARDUINO_GROVE_A1\n",
    "import pynq.lib.rgbled as rgbled\n",
    "import time\n",
    "import matplotlib.pyplot as plt\n",
    "import csv\n",
    "\n",
    "btns = base.btns_gpio\n",
    "analog1 = Arduino_Analog(base.ARDUINO, ARDUINO_GROVE_A1)"
   ]
  },
  {
   "cell_type": "markdown",
   "metadata": {},
   "source": [
    "## Real-time bit detection"
   ]
  },
  {
   "cell_type": "code",
   "execution_count": 3,
   "metadata": {},
   "outputs": [
    {
     "name": "stdout",
     "output_type": "stream",
     "text": [
      "Starting\n",
      "1\n",
      "10114\n",
      "0\n",
      "4821\n",
      "1\n",
      "9257\n",
      "1\n",
      "9142\n",
      "0\n",
      "4890\n",
      "0\n",
      "5934\n",
      "1\n",
      "9692\n",
      "1\n",
      "9162\n",
      "0\n",
      "4818\n",
      "Stopping\n",
      "[1, 0, 1, 1, 0, 0, 1, 1, 0]\n"
     ]
    }
   ],
   "source": [
    "xAdcVoltages = []\n",
    "pmodAdcVoltages = [] \n",
    "samples = 0\n",
    "maxSamples = 20000\n",
    "voltageThreshold = 0.06\n",
    "spike_start = 12000\n",
    "bit = []\n",
    "\n",
    "start = False\n",
    "\n",
    "while  not start:\n",
    "    if btns.read() == 1:\n",
    "        start = True\n",
    "        print(\"Starting\")\n",
    "    time.sleep(0.01)\n",
    "\n",
    "while start:\n",
    "    xAdcVoltages.append(analog1.read()[0])\n",
    "    if xAdcVoltages[-1] >= voltageThreshold:\n",
    "        plen = samples - spike_start\n",
    "        spike_start = samples\n",
    "        #print(plen)\n",
    "        if (plen > 4000 and plen < 7000):\n",
    "            print(\"0\")\n",
    "            print(plen)\n",
    "            bit.append(0)\n",
    "        elif (plen > 7000 and plen < 12000):\n",
    "            bit.append(1)\n",
    "            print(\"1\")\n",
    "            print(plen)\n",
    "        \n",
    "    samples += 1\n",
    "    if samples % 10000 == 0:\n",
    "        if btns.read() >= 8:\n",
    "            print(\"Stopping\")\n",
    "            start = False   # stop the program\n",
    "        \n",
    " \n",
    "print(bit)"
   ]
  },
  {
   "cell_type": "code",
   "execution_count": 4,
   "metadata": {},
   "outputs": [
    {
     "data": {
      "image/png": "[encoded data removed]",
      "text/plain": [
       "<Figure size 432x288 with 1 Axes>"
      ]
     },
     "metadata": {
      "needs_background": "light"
     },
     "output_type": "display_data"
    }
   ],
   "source": [
    "plt.plot(xAdcVoltages)\n",
    "plt.xlabel('Samples')\n",
    "plt.ylabel('voltage')\n",
    "plt.title('Rx Transducer w/ PYNQ DAC sinewave output - distance between the spikes')\n",
    "plt.show()"
   ]
  },
  {
   "cell_type": "code",
   "execution_count": null,
   "metadata": {},
   "outputs": [],
   "source": [
    "with open(\"/home/xilinx/pynq/grove-adc.csv\", 'w', newline='') as file:\n",
    "            writer = csv.writer(file)\n",
    "            writer.writerow(list(xAdcVoltages))"
   ]
  }
 ],
 "metadata": {
  "kernelspec": {
   "display_name": "Python 3 (ipykernel)",
   "language": "python",
   "name": "python3"
  },
  "language_info": {
   "codemirror_mode": {
    "name": "ipython",
    "version": 3
   },
   "file_extension": ".py",
   "mimetype": "text/x-python",
   "name": "python",
   "nbconvert_exporter": "python",
   "pygments_lexer": "ipython3",
   "version": "3.10.4"
  }
 },
 "nbformat": 4,
 "nbformat_minor": 2
}
