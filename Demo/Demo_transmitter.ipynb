{
 "cells": [
  {
   "cell_type": "markdown",
   "metadata": {},
   "source": [
    "# Demo Transmitter Program\n",
    "\n",
    "To be used with transducers in a small container of water. Doesn't use a full modulated signal, instead communicates with clicks."
   ]
  },
  {
   "cell_type": "markdown",
   "metadata": {},
   "source": [
    "### Imports and Microblaze Setup"
   ]
  },
  {
   "cell_type": "code",
   "execution_count": 5,
   "metadata": {
    "scrolled": true
   },
   "outputs": [],
   "source": [
    "from pynq.overlays.base import BaseOverlay\n",
    "base = BaseOverlay(\"base.bit\")"
   ]
  },
  {
   "cell_type": "code",
   "execution_count": 6,
   "metadata": {},
   "outputs": [],
   "source": [
    "from pynq.lib import Pmod_ADC, Pmod_DAC\n",
    "import time\n",
    "import ctypes\n",
    "import numpy as np\n",
    "import array\n",
    "from pynq import allocate\n",
    "import numpy as np \n",
    "import matplotlib.pyplot as plt \n"
   ]
  },
  {
   "cell_type": "code",
   "execution_count": 7,
   "metadata": {},
   "outputs": [],
   "source": [
    "dac = Pmod_DAC(base.PMODB)"
   ]
  },
  {
   "cell_type": "markdown",
   "metadata": {},
   "source": [
    "### Transmitter\n",
    "\n",
    "Encodes ones and zeros in the length of gaps between clicks. A longer gap means one, while a shorter means zero. Each message will start and end with a click to bookend the bits."
   ]
  },
  {
   "cell_type": "code",
   "execution_count": 9,
   "metadata": {},
   "outputs": [],
   "source": [
    "def send_bits(bit_list):\n",
    "    fs = 168000\n",
    "    freq = 42000\n",
    "    buffer_len = 40000\n",
    "    samples_per_cycle = fs/freq\n",
    "    samples_before_switch = int(samples_per_cycle/2)\n",
    "    \n",
    "    cycle_samples = [800]*samples_before_switch + [0]*samples_before_switch\n",
    "    print(cycle_samples)\n",
    "    iterations = int(buffer_len / len(cycle_samples)) + 1\n",
    "    cycle_samples = cycle_samples*iterations\n",
    "    \n",
    "    py_buffer = allocate(shape=(buffer_len,), dtype=np.int32)\n",
    "    \n",
    "    # now the one that inverts it\n",
    "    py_buffer_inverted = allocate(shape=(buffer_len,), dtype=np.int32)\n",
    "    \n",
    "    # And one that is zero for good measure\n",
    "    py_buffer_zero = allocate(shape=(buffer_len,), dtype=np.int32)\n",
    "\n",
    "    for i in range(buffer_len):\n",
    "        py_buffer[i] = cycle_samples[i]\n",
    "        py_buffer_inverted[i] = 1600 - cycle_samples[i]\n",
    "        py_buffer_zero[i] = 0\n",
    "            \n",
    "    \n",
    "    def send_zero_bit():\n",
    "        dac.write(py_buffer.physical_address|0x00000003)\n",
    "        dac.write(py_buffer_inverted.physical_address|0x00000003)\n",
    "        dac.write(py_buffer_zero.physical_address|0x00000003)\n",
    "        dac.write(py_buffer_zero.physical_address|0x00000003)\n",
    "        dac.write(py_buffer_zero.physical_address|0x00000003)\n",
    "    \n",
    "    def send_one_bit():\n",
    "        dac.write(py_buffer.physical_address|0x00000003)\n",
    "        dac.write(py_buffer_inverted.physical_address|0x00000003)\n",
    "        dac.write(py_buffer_zero.physical_address|0x00000003)\n",
    "        dac.write(py_buffer_zero.physical_address|0x00000003)\n",
    "        dac.write(py_buffer_zero.physical_address|0x00000003)\n",
    "        dac.write(py_buffer_zero.physical_address|0x00000003)\n",
    "        dac.write(py_buffer_zero.physical_address|0x00000003)\n",
    "        dac.write(py_buffer_zero.physical_address|0x00000003)\n",
    "    \n",
    "    for bit in bit_list:\n",
    "        if bit:\n",
    "            send_one_bit()\n",
    "        else:\n",
    "            send_zero_bit()\n",
    "    dac.write(py_buffer.physical_address|0x00000003)\n",
    "    dac.write(py_buffer_inverted.physical_address|0x00000003)"
   ]
  },
  {
   "cell_type": "code",
   "execution_count": 12,
   "metadata": {},
   "outputs": [
    {
     "name": "stdout",
     "output_type": "stream",
     "text": [
      "[800, 800, 0, 0]\n"
     ]
    }
   ],
   "source": [
    "send_bits([0,1,1,0,0,1,1,0,0,1,1,0,1,1,1,1,0,1,1,0,1,1,1,1,0,1,1,0,0,1,0,0,0,0,1,1,1,1,1,1])"
   ]
  },
  {
   "cell_type": "code",
   "execution_count": 18,
   "metadata": {},
   "outputs": [
    {
     "name": "stdout",
     "output_type": "stream",
     "text": [
      "[800, 800, 0, 0]\n"
     ]
    }
   ],
   "source": [
    "send_bits([0,1,1,0,1,0,0,0,0,1,1,0,0,1,0,1,0,1,1,0,1,1,0,0,0,1,1,0,1,1,0,0,0,1,1,0,1,1,1,1,0,0,1,0,0,0,0,0,0,1,1,1,0,1,1,1,0,1,1,0,1,1,1,1,0,1,1,1,0,0,1,0,0,1,1,0,1,1,0,0,0,1,1,0,0,1,0,0])"
   ]
  }
 ],
 "metadata": {
  "kernelspec": {
   "display_name": "Python 3",
   "language": "python",
   "name": "python3"
  },
  "language_info": {
   "codemirror_mode": {
    "name": "ipython",
    "version": 3
   },
   "file_extension": ".py",
   "mimetype": "text/x-python",
   "name": "python",
   "nbconvert_exporter": "python",
   "pygments_lexer": "ipython3",
   "version": "3.6.5"
  }
 },
 "nbformat": 4,
 "nbformat_minor": 5
}
