{
 "cells": [
  {
   "cell_type": "code",
   "execution_count": 2,
   "id": "6f3512f0",
   "metadata": {
    "slideshow": {
     "slide_type": "subslide"
    }
   },
   "outputs": [],
   "source": [
    "from pynq.overlays.base import BaseOverlay\n",
    "from pynq.lib import Pmod_ADC\n",
    "import time\n",
    "\n",
    "# Load the base overlay\n",
    "overlay = BaseOverlay(\"base.bit\")\n",
    "\n",
    "# Initialize ADC on the appropriate pins\n",
    "adc = Pmod_ADC(overlay.PMODB)"
   ]
  },
  {
   "cell_type": "code",
   "execution_count": 3,
   "id": "dde93aa1",
   "metadata": {},
   "outputs": [],
   "source": [
    "# Define function to read analog signal from transducer\n",
    "def read_ultrasonic_signal():\n",
    "    # Read analog signal from ADC channel 0 (adjust as needed)\n",
    "    voltage = adc.read(0)\n",
    "    return voltage"
   ]
  },
  {
   "cell_type": "code",
   "execution_count": 4,
   "id": "be672acf",
   "metadata": {},
   "outputs": [
    {
     "name": "stdout",
     "output_type": "stream",
     "text": [
      "Ultrasonic Voltage: []\n",
      "Ultrasonic Voltage: []\n",
      "Ultrasonic Voltage: []\n"
     ]
    }
   ],
   "source": [
    "# Main function\n",
    "def main():\n",
    "    maxAttempts = 3;\n",
    "    attempt = 0;\n",
    "    \n",
    "    try:\n",
    "        while attempt < maxAttempts:\n",
    "            # Read ultrasonic signal\n",
    "            ultrasonic_voltage = read_ultrasonic_signal()\n",
    "            print(\"Ultrasonic Voltage:\", ultrasonic_voltage)\n",
    "\n",
    "            # Delay before next reading\n",
    "            time.sleep(0.1)\n",
    "            attempt += 1;\n",
    "    except KeyboardInterrupt:\n",
    "        print(\"Unable to read analog signal from ADC\\n\");\n",
    "\n",
    "if __name__ == \"__main__\":\n",
    "    main()"
   ]
  },
  {
   "cell_type": "code",
   "execution_count": null,
   "id": "1cd27daa",
   "metadata": {},
   "outputs": [],
   "source": []
  }
 ],
 "metadata": {
  "kernelspec": {
   "display_name": "Python 3 (ipykernel)",
   "language": "python",
   "name": "python3"
  },
  "language_info": {
   "codemirror_mode": {
    "name": "ipython",
    "version": 3
   },
   "file_extension": ".py",
   "mimetype": "text/x-python",
   "name": "python",
   "nbconvert_exporter": "python",
   "pygments_lexer": "ipython3",
   "version": "3.10.4"
  }
 },
 "nbformat": 4,
 "nbformat_minor": 5
}
